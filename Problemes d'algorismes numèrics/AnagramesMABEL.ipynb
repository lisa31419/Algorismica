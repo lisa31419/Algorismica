{
 "cells": [
  {
   "cell_type": "markdown",
   "metadata": {},
   "source": [
    "<p style=\"text-align:right;font-size:0.9em\">\n",
    "Grau d'Enginyeria Informàtica. Algorísmica\n",
    "</p>"
   ]
  },
  {
   "cell_type": "markdown",
   "metadata": {},
   "source": [
    "<h1 style=\"padding:0.5em 0;font:Garamond;font-size:1-5em;color:#F90;background-color:#005\">\n",
    "Problema: Anagrames\n",
    "</h1>"
   ]
  },
  {
   "cell_type": "markdown",
   "metadata": {},
   "source": [
    "Implementa el següent algorisme per saber si dues paraules formades per lletres del conjunt ``abcdefghijklmnopqrstuvyz`` són anagrames (tenen les mateixes lletres):\n",
    "\n",
    "+ Associa cada una de les lletres de l'alfabet a un nombre primer.\n",
    "+ Multiplica els caràcters de cada paraula per obtenir un enter. \n",
    "\n",
    "Com que cada enter és un primer o un producte únic de primers, aquest enter només es repetirà per les paraules que tenen les mateixes lletres (anagrames). "
   ]
  },
  {
   "cell_type": "code",
   "execution_count": 20,
   "metadata": {},
   "outputs": [
    {
     "name": "stdout",
     "output_type": "stream",
     "text": [
      "True\n",
      "False\n",
      "False\n"
     ]
    }
   ],
   "source": [
    "def primers(n):   \n",
    "    \"\"\" Aquesta funció retorna la llista dels nombres primers menors que n\"\"\"\n",
    "    dicc = {'a':2, 'b':3, 'c':5, 'd':7, 'e':11, 'f':13, 'g':17, 'h':19, 'i':23, 'j':29, 'k':31,'l':37,\n",
    "            'm':41,'n':43,'o':47,'p':53,'q':59,'r':61,'s':67,'t':71,'u':73,'v':79,'y':83,'z':89}\n",
    "    return(dicc[n])\n",
    "\n",
    "def anagrama(a,b): \n",
    "    \"\"\" Aquesta funció retorna True si a i b són anagrames. False altrament\"\"\"\n",
    "    a = str(a)\n",
    "    sumaA = 1\n",
    "    sumaB = 1\n",
    "    i = 0\n",
    "    x = primers(a[0])\n",
    " \n",
    "    while ((len(a)==len(b))and(i<len(a))):\n",
    "        sumaA *= primers(a[i])\n",
    "        sumaB *= primers(b[i])\n",
    "        i += 1\n",
    "    if (sumaA==sumaB)and(len(a)==len(b)):\n",
    "        return(True)\n",
    "    else:\n",
    "        return(False)\n",
    "        \n",
    "    \n",
    "print(anagrama('ana', 'naa')) # Hauria de retornar True\n",
    "print(anagrama('ana', 'nat')) # Hauria de retornar False\n",
    "print(anagrama('ana', 'anna')) # Hauria de retornar False"
   ]
  },
  {
   "cell_type": "markdown",
   "metadata": {},
   "source": [
    "<p style=\"text-align:right;font-size:0.9em\">\n",
    "&copy;Jordi Vitrià i Mireia Ribera\n",
    "</p>"
   ]
  }
 ],
 "metadata": {
  "kernelspec": {
   "display_name": "Python 3",
   "language": "python",
   "name": "python3"
  },
  "language_info": {
   "codemirror_mode": {
    "name": "ipython",
    "version": 3
   },
   "file_extension": ".py",
   "mimetype": "text/x-python",
   "name": "python",
   "nbconvert_exporter": "python",
   "pygments_lexer": "ipython3",
   "version": "3.6.5"
  }
 },
 "nbformat": 4,
 "nbformat_minor": 2
}
