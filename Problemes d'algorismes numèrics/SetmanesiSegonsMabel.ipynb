{
 "cells": [
  {
   "cell_type": "markdown",
   "metadata": {},
   "source": [
    "<p style=\"text-align:right;font-size:0.9em\">\n",
    "Grau d'Enginyeria Informàtica. Algorísmica\n",
    "</p>"
   ]
  },
  {
   "cell_type": "markdown",
   "metadata": {},
   "source": [
    "<h1 style=\"padding:0.5em 0;font:Garamond;font-size:1-5em;color:#F90;background-color:#005\">\n",
    "Problema: Setmanes i segons\n",
    "</h1>"
   ]
  },
  {
   "cell_type": "markdown",
   "metadata": {},
   "source": [
    "Fes una funció que trobi un nombre de setmanes $n$ que tinguin un nombre de segons $s$ tal que $s = k!$ per algun $k$\n",
    " \n",
    "Pots fer servir la funció math.factorial(x), que calcula el factorial de x, com podeu veure en l'exemple següent."
   ]
  },
  {
   "cell_type": "code",
   "execution_count": 2,
   "metadata": {},
   "outputs": [
    {
     "name": "stdout",
     "output_type": "stream",
     "text": [
      "24\n"
     ]
    }
   ],
   "source": [
    "import math\n",
    "print(math.factorial(4))"
   ]
  },
  {
   "cell_type": "code",
   "execution_count": 16,
   "metadata": {},
   "outputs": [
    {
     "data": {
      "text/plain": [
       "6"
      ]
     },
     "execution_count": 16,
     "metadata": {},
     "output_type": "execute_result"
    }
   ],
   "source": [
    "def SetmanesSegons(k):\n",
    "    ''' \n",
    "    1 setmana = 604800 segons\n",
    "    segons = k!\n",
    "    n = nombre de setmanes\n",
    "    '''\n",
    "    import math\n",
    "    segons = math.factorial(k)\n",
    "    n = int(segons/604800)\n",
    "    \n",
    "    while (segons % 604800 == 0): \n",
    "         return(n)\n",
    "        \n",
    "    if (segons % 604800 != 0):\n",
    "        print(\"No tenemos un número de semanas entero.\")\n",
    "        \n",
    "SetmanesSegons(10)   "
   ]
  },
  {
   "cell_type": "code",
   "execution_count": 24,
   "metadata": {},
   "outputs": [
    {
     "data": {
      "text/plain": [
       "6"
      ]
     },
     "execution_count": 24,
     "metadata": {},
     "output_type": "execute_result"
    }
   ],
   "source": [
    "def setmanesSegons():\n",
    "    segonsPerSetmana = 7*24*3600\n",
    "    factorialMeu= 1\n",
    "    n=1\n",
    "    while factorialMeu%segonsPerSetmana!=0:\n",
    "        n +=1\n",
    "        factorialMeu = factorialMeu*n\n",
    "    return factorialMeu//segonsPerSetmana\n",
    "setmanesSegons()"
   ]
  },
  {
   "cell_type": "markdown",
   "metadata": {},
   "source": [
    "<p style=\"text-align:right;font-size:0.9em\">\n",
    "&copy;Jordi Vitrià i Mireia Ribera\n",
    "</p>"
   ]
  }
 ],
 "metadata": {
  "kernelspec": {
   "display_name": "Python 3",
   "language": "python",
   "name": "python3"
  },
  "language_info": {
   "codemirror_mode": {
    "name": "ipython",
    "version": 3
   },
   "file_extension": ".py",
   "mimetype": "text/x-python",
   "name": "python",
   "nbconvert_exporter": "python",
   "pygments_lexer": "ipython3",
   "version": "3.6.5"
  }
 },
 "nbformat": 4,
 "nbformat_minor": 2
}
