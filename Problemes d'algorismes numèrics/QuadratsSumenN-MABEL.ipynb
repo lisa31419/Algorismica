{
 "cells": [
  {
   "cell_type": "markdown",
   "metadata": {},
   "source": [
    "<p style=\"text-align:right;font-size:0.9em\">\n",
    "Grau d'Enginyeria Informàtica. Algorísmica\n",
    "</p>"
   ]
  },
  {
   "cell_type": "markdown",
   "metadata": {},
   "source": [
    "<h1 style=\"padding:0.5em 0;font:Garamond;font-size:1-5em;color:#F90;background-color:#005\">\n",
    "Problema: 2 quadrats que sumin N\n",
    "</h1>"
   ]
  },
  {
   "cell_type": "markdown",
   "metadata": {},
   "source": [
    "<p style=\"font-family:Arial;font-size:1em\">\n",
    "Donat un nombre n, troba dos nombres positius tals que la suma dels seus quadrats sigui n, o si no n'hi ha que retorni -1,-1\n",
    "</p>"
   ]
  },
  {
   "cell_type": "code",
   "execution_count": 34,
   "metadata": {},
   "outputs": [
    {
     "data": {
      "text/plain": [
       "(2, 11)"
      ]
     },
     "execution_count": 34,
     "metadata": {},
     "output_type": "execute_result"
    }
   ],
   "source": [
    "# Inserir aquí el codi de la solució\n",
    "def quadrats(n):\n",
    "    for i in range(1,n):\n",
    "        for j in range(1,n):\n",
    "            if (n==i**2+j**2)==True:\n",
    "                return(i,j)\n",
    "    else:\n",
    "        return(-1,-1)\n",
    "                          \n",
    "                \n",
    "quadrats(125) # hauria de retornar (2,11)"
   ]
  },
  {
   "cell_type": "code",
   "execution_count": 35,
   "metadata": {},
   "outputs": [
    {
     "data": {
      "text/plain": [
       "(5, 9)"
      ]
     },
     "execution_count": 35,
     "metadata": {},
     "output_type": "execute_result"
    }
   ],
   "source": [
    "quadrats(106) # hauria de retornar (5,9)"
   ]
  },
  {
   "cell_type": "code",
   "execution_count": 36,
   "metadata": {},
   "outputs": [
    {
     "data": {
      "text/plain": [
       "(-1, -1)"
      ]
     },
     "execution_count": 36,
     "metadata": {},
     "output_type": "execute_result"
    }
   ],
   "source": [
    "quadrats(81) # hauria de retornar (-1,-1)"
   ]
  },
  {
   "cell_type": "markdown",
   "metadata": {},
   "source": [
    "<p style=\"text-align:right;font-size:0.9em\">\n",
    "&copy;Jordi Vitrià i Mireia Ribera\n",
    "</p>"
   ]
  }
 ],
 "metadata": {
  "kernelspec": {
   "display_name": "Python 3",
   "language": "python",
   "name": "python3"
  },
  "language_info": {
   "codemirror_mode": {
    "name": "ipython",
    "version": 3
   },
   "file_extension": ".py",
   "mimetype": "text/x-python",
   "name": "python",
   "nbconvert_exporter": "python",
   "pygments_lexer": "ipython3",
   "version": "3.6.5"
  }
 },
 "nbformat": 4,
 "nbformat_minor": 2
}
