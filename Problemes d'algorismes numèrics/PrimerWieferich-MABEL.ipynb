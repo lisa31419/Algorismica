{
 "cells": [
  {
   "cell_type": "markdown",
   "metadata": {},
   "source": [
    "<p style=\"text-align:right;font-size:0.9em\">\n",
    "Grau d'Enginyeria Informàtica. Algorísmica\n",
    "</p>"
   ]
  },
  {
   "cell_type": "markdown",
   "metadata": {},
   "source": [
    "<h1 style=\"padding:0.5em 0;font:Garamond;font-size:1-5em;color:#F90;background-color:#005\">\n",
    "Problema: Primer de Wieferich\n",
    "</h1>"
   ]
  },
  {
   "cell_type": "markdown",
   "metadata": {},
   "source": [
    "<p style=\"font-family:Arial;font-size:1em\">\n",
    "Un *primer de Wieferich* és un nombre primer $p$ tal que $p^2$ divideix $2^{p-1}-1$. Quins *primer de Wieferich* hi ha menors que 5000?\n",
    "</p>"
   ]
  },
  {
   "cell_type": "code",
   "execution_count": 1,
   "metadata": {},
   "outputs": [
    {
     "data": {
      "text/plain": [
       "2"
      ]
     },
     "execution_count": 1,
     "metadata": {},
     "output_type": "execute_result"
    }
   ],
   "source": [
    "def primers(n):\n",
    "    import math\n",
    "    llista1 = [x for x in range(2, n+1)]\n",
    "    B = []\n",
    "    while llista1[0] < math.sqrt(n):\n",
    "        B.append(llista1[0])\n",
    "        llista1 = [x for x in llista1 if x%llista1[0]!=0]   \n",
    "    return(B + llista1)\n",
    "\n",
    "def primersWieferich():\n",
    "    contador = 0\n",
    "    for p in primers(5000):\n",
    "        if((((2**(p-1))-1)%(p**2))==0):\n",
    "            contador += 1\n",
    "    return(contador)        \n",
    "primersWieferich()"
   ]
  },
  {
   "cell_type": "markdown",
   "metadata": {},
   "source": [
    "<p style=\"text-align:right;font-size:0.9em\">\n",
    "&copy;Jordi Vitrià i Mireia Ribera\n",
    "</p>"
   ]
  }
 ],
 "metadata": {
  "kernelspec": {
   "display_name": "Python 3",
   "language": "python",
   "name": "python3"
  },
  "language_info": {
   "codemirror_mode": {
    "name": "ipython",
    "version": 3
   },
   "file_extension": ".py",
   "mimetype": "text/x-python",
   "name": "python",
   "nbconvert_exporter": "python",
   "pygments_lexer": "ipython3",
   "version": "3.6.5"
  }
 },
 "nbformat": 4,
 "nbformat_minor": 2
}
