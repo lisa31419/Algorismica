{
 "cells": [
  {
   "cell_type": "markdown",
   "metadata": {},
   "source": [
    "<p style=\"text-align:right;font-size:0.9em\">\n",
    "Grau d'Enginyeria Informàtica. Algorísmica\n",
    "</p>"
   ]
  },
  {
   "cell_type": "markdown",
   "metadata": {},
   "source": [
    "<h1 style=\"padding:0.5em 0;font:Garamond;font-size:1-5em;color:#F90;background-color:#005\">\n",
    "Problema: Columnes Excel\n",
    "</h1>"
   ]
  },
  {
   "cell_type": "markdown",
   "metadata": {},
   "source": [
    "<p style=\"font-family:Arial;font-size:1em\">\n",
    "Convertir un nombre en el nom de la columna Excel corresponent.\n",
    "</p>"
   ]
  },
  {
   "cell_type": "markdown",
   "metadata": {},
   "source": [
    "Fixeu-vos en el següents patrons:\n",
    "    \n",
    "\n",
    "| A | B | C | D | E | F | G | \n",
    "|---|---|---|---|---|---|---|\n",
    "| 1 | 2 | 3 | 4 | 5 | 6 | 7 |\n",
    "\n",
    "| W | X  | Y | Z | AA | AB | AC | \n",
    "|---|---|---|---|---|---|---|\n",
    "| 23 | 24 | 25 | 26 | 27 | 28 | 29 |\n",
    "\n",
    "| OP | OQ | OR | OS | OT | OU | OV | \n",
    "|---|---|---|---|---|---|---|\n",
    "| 406 | 407 | 408 | 409 | 410 | 411 | 412 |\n",
    "\n",
    "| ZZ | AAA | AAB | AAC | AAD | AAE | \n",
    "|---|---|---|---|---|---|---|\n",
    "| 702 | 703 | 704 | 705 | 706 | 707 | "
   ]
  },
  {
   "cell_type": "code",
   "execution_count": 46,
   "metadata": {},
   "outputs": [],
   "source": [
    "def divisionModulo(n):\n",
    "    a = n//26\n",
    "    b = n%26\n",
    "    if (b == 0):\n",
    "        return (a-1, b+26)\n",
    "    return (a,b)"
   ]
  },
  {
   "cell_type": "code",
   "execution_count": 48,
   "metadata": {},
   "outputs": [
    {
     "data": {
      "text/plain": [
       "'DC'"
      ]
     },
     "execution_count": 48,
     "metadata": {},
     "output_type": "execute_result"
    }
   ],
   "source": [
    "'''\n",
    "1 = chr(65) -> A\n",
    "2 = chr(66) -> B\n",
    "...\n",
    "base 26 \n",
    " Z    A   A \n",
    "26^2 26^1 26^0\n",
    "sol += 'A' (acumuladores)\n",
    "'''\n",
    "import string\n",
    "def columnesExcel(n):\n",
    "    chars = []\n",
    "    while (n > 0):\n",
    "        n, m = divisionModulo(n)\n",
    "        chars.append(string.ascii_uppercase[m-1])\n",
    "    \n",
    "    return(''.join(chars[::-1]))\n",
    "    \n",
    "columnesExcel(107)"
   ]
  },
  {
   "cell_type": "code",
   "execution_count": 28,
   "metadata": {},
   "outputs": [
    {
     "data": {
      "text/plain": [
       "'ALL'"
      ]
     },
     "execution_count": 28,
     "metadata": {},
     "output_type": "execute_result"
    }
   ],
   "source": [
    "columnesExcel(1000)"
   ]
  },
  {
   "cell_type": "code",
   "execution_count": 29,
   "metadata": {},
   "outputs": [
    {
     "data": {
      "text/plain": [
       "'APH'"
      ]
     },
     "execution_count": 29,
     "metadata": {},
     "output_type": "execute_result"
    }
   ],
   "source": [
    "columnesExcel(1100)"
   ]
  },
  {
   "cell_type": "markdown",
   "metadata": {},
   "source": [
    "<h2 style=\"padding:0.5em 0;font:Garamond;font-size:1.2em;color:#FA0;background-color:#005\">\n",
    "Pregunta 1: Quines lletres s'usen per les columnes Excel?\n",
    "</h2>"
   ]
  },
  {
   "cell_type": "markdown",
   "metadata": {},
   "source": [
    "Las letras ASCII mayusculas, es decir:"
   ]
  },
  {
   "cell_type": "code",
   "execution_count": 33,
   "metadata": {},
   "outputs": [
    {
     "name": "stdout",
     "output_type": "stream",
     "text": [
      "['A', 'B', 'C', 'D', 'E', 'F', 'G', 'H', 'I', 'J', 'K', 'L', 'M', 'N', 'O', 'P', 'Q', 'R', 'S', 'T', 'U', 'V', 'W', 'X', 'Y', 'Z']\n"
     ]
    }
   ],
   "source": [
    "lletras = [chr(65+x) for x in range(0,26)]\n",
    "print(lletras)"
   ]
  },
  {
   "cell_type": "markdown",
   "metadata": {},
   "source": [
    "<h2 style=\"padding:0.5em 0;font:Garamond;font-size:1.2em;color:#FA0;background-color:#005\">\n",
    "Pregunta 2: Cada quant s'afegeix una nova lletra al nom de la columna?\n",
    "</h2>"
   ]
  },
  {
   "cell_type": "markdown",
   "metadata": {
    "collapsed": true
   },
   "source": [
    "Cada vez que se recorren las 26 letras 26 veces, es decir, la primera columana de letras se recorrer 26^1 veces, la segunda 26^2 veces (se recorren las 26 posibilidades de una letra con las 26 que conforman el abecedario), la tercera 26^3,etc...\n",
    "De esta forma, una vez lleguemos a que todas las columnas sean Z, se añade una nueva columna A y se reinicia el proceso."
   ]
  },
  {
   "cell_type": "markdown",
   "metadata": {},
   "source": [
    "<h2 style=\"padding:0.5em 0;font:Garamond;font-size:1.2em;color:#FA0;background-color:#005\">\n",
    "Pregunta 3: A quina columna corresponen els nombres:\n",
    "</h2>"
   ]
  },
  {
   "cell_type": "markdown",
   "metadata": {},
   "source": [
    "- 107\n",
    "- 1000\n",
    "- 1100\n",
    "\n",
    "Raona la teva resposta"
   ]
  },
  {
   "cell_type": "markdown",
   "metadata": {
    "collapsed": true
   },
   "source": [
    "+ 107:\n",
    "Dividiremos el 107//26 = 4 y haremos su módulo 107%26 = 3. Estos resultados corresponden al numero que debemos sumar a 65 {siendo chr(65)='A'} para obetener el caracter del código ASCII que buscamos, pero, como los índices van de 0 a 26, debemos restarles a 4 y 3 una unidad tal que: chr(65+(4-1))=chr(65+3)=chr(68)='D' y chr(65+(3-1))=chr(65+2)=chr(67)='C'.\n",
    "Como aparecen al revés, invertiremos el orden de la lista que los contiene y los uniremos en un único string tal que 107 ='DC'.\n",
    "\n",
    "+ 1000:\n",
    "Repetiremos el mismo proceso, siendo 1000//26 = 38 y 1000%26 = 12. El numero 12 es trivial que aplicando chr(65+(12-1))= chr(76)='L', pero 38 no tanto. Como 38 es mayor que 26 , esto quiere decir que tendremos una nueva columna A en la tercera posicion. Por tanto, para saber que caracter corresponde a la segunda columna restaremos 38-26 = 12 y, coomo vimos antes, 12 se corresponde con el caracter 'L'. Por tanto, tras reordenar la lista de caracteres, obetenemos que 1000 = 'ALL'\n",
    "\n",
    "+ 1100:\n",
    "Repetimos por última vez todo: 1100//26 = 42 y 1100%26 = 8. Siguiendo el procedimiento del apartado anterior 8 = 'H' y, como 42-26 = 16,   16 = 'P'.Por lo tanto obtenemos, tras reordenar la llista y unir, 1100 = 'APH'"
   ]
  },
  {
   "cell_type": "markdown",
   "metadata": {},
   "source": [
    "<p style=\"text-align:right;font-size:0.9em\">\n",
    "&copy;Jordi Vitrià i Mireia Ribera\n",
    "</p>"
   ]
  }
 ],
 "metadata": {
  "kernelspec": {
   "display_name": "Python 3",
   "language": "python",
   "name": "python3"
  },
  "language_info": {
   "codemirror_mode": {
    "name": "ipython",
    "version": 3
   },
   "file_extension": ".py",
   "mimetype": "text/x-python",
   "name": "python",
   "nbconvert_exporter": "python",
   "pygments_lexer": "ipython3",
   "version": "3.6.5"
  }
 },
 "nbformat": 4,
 "nbformat_minor": 2
}
