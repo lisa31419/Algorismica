{
 "cells": [
  {
   "cell_type": "markdown",
   "metadata": {},
   "source": [
    "<p style=\"text-align:right;font-size:0.9em\">\n",
    "Grau d'Enginyeria Informàtica. Algorísmica\n",
    "</p>"
   ]
  },
  {
   "cell_type": "markdown",
   "metadata": {},
   "source": [
    "<h1 style=\"padding:0.5em 0;font:Garamond;font-size:1-5em;color:#F90;background-color:#005\">\n",
    "Problema: El sedàs d'Erastòtenes\n",
    "</h1>"
   ]
  },
  {
   "cell_type": "markdown",
   "metadata": {},
   "source": [
    "El sedàs d'Eratòstenes és un algorisme antic per cercar tots els nombres primers fins a un determinat enter. Va ser creat per Eratòstenes (276-194 aC), un matemàtic de l'Antiga Grècia. Referència: http://ca.wikipedia.org/wiki/Sedàs_d'Eratòstenes.\n",
    "\n",
    "Algorisme:\n",
    "\n",
    "1. Escriu una llista $llista1$ amb els números del $2$ fins a l'enter més gran $N$ que vulguis calcular.\n",
    "2. El primer nombre de la llista és un nombre primer. Anota'l en una llista de nombres primers, $B$.\n",
    "3. Esborra de la llista $llista1$ el primer nombre i els seus múltiples.\n",
    "4. Si el primer nombre de la llista $llista1$ és més petit que l’arrel quadrada de $N$, torna al punt 2.\n",
    "5. Els nombres de la llista $llista2$ i els que queden a la llista $llista1$ són tots els nombres primers cercats.\n",
    "\n",
    "\n",
    "+ Escriu una funció, ``era1`` que, donat un nombre $n$ usi aquest algorisme per retornar tots els nombres primers menors o iguals que $n$ en una llista."
   ]
  },
  {
   "cell_type": "code",
   "execution_count": 44,
   "metadata": {},
   "outputs": [],
   "source": [
    "def era1(n):\n",
    "    import math\n",
    "    llista1 = [x for x in range(2,n+1)]\n",
    "    B = []\n",
    "    for llista1[0] in llista1:\n",
    "        B.append(llista1[0])\n",
    "        for x in llista1:\n",
    "            if x%llista1[0]==0:\n",
    "                llista1.remove(x)\n",
    "        while llista1[0] < math.sqrt(n):\n",
    "            B.append(llista1[0])\n",
    "            for x in llista1:\n",
    "                if x%llista1[0]==0:\n",
    "                    llista1.remove(x) \n",
    "   \n",
    "    llista2 = B + llista1\n",
    "    llista2.sort()\n",
    "    print(llista2[:-1])"
   ]
  },
  {
   "cell_type": "code",
   "execution_count": 45,
   "metadata": {},
   "outputs": [
    {
     "name": "stdout",
     "output_type": "stream",
     "text": [
      "[2, 3, 5, 7, 11]\n"
     ]
    }
   ],
   "source": [
    "# Test de la funció\n",
    "era1(11) #aquest exemple hauria de retornar [2, 3, 5, 7, 11] "
   ]
  },
  {
   "cell_type": "markdown",
   "metadata": {},
   "source": [
    "## Pregunta 1\n",
    "Escriu una funció, ``era2``, que imprimeixi el temps que es triga a calcular mitjançant el sedàs d’Eratòstenes els nombres primers menors que $500.000$ i quants nombres primers hi ha. era2 ha d'aconseguir fer aquest càlcul en menys de 5 segons, i per fer-ho hauràs d'optimitzar el càlcul del sedàs. L'optimització pot suposar introduir petits canvis en l'algorisme sense alterar-ne l'essència però potser sí els passos i la manera de fer-los.\n",
    "\n",
    "*Comentari 1*: Comença per un nombre màxim més petit que 500.000 i ves pujant de mica en mica\n",
    "\n",
    "*Comentari 2*: Si el càlcul fins a 500.000 tarda més de 5 segons, digues fins a quin nombre arribes en 5 segons\n",
    "\n",
    "*Comentari 3*: Revisa les list comprehensions per fer l'algorisme més eficient"
   ]
  },
  {
   "cell_type": "code",
   "execution_count": 2,
   "metadata": {},
   "outputs": [
    {
     "name": "stdout",
     "output_type": "stream",
     "text": [
      "1.38 s ± 42.4 ms per loop (mean ± std. dev. of 7 runs, 1 loop each)\n"
     ]
    }
   ],
   "source": [
    "def era2(n):\n",
    "    import math\n",
    "    llista1 = [x for x in range(2, n+1)]\n",
    "    B = []\n",
    "    while llista1[0] < math.sqrt(n):\n",
    "        B.append(llista1[0])\n",
    "        llista1 = [x for x in llista1 if x%llista1[0]!=0]\n",
    "        \n",
    "    return(B + llista1)\n",
    "\n",
    "%timeit era2(500000)"
   ]
  },
  {
   "cell_type": "markdown",
   "metadata": {},
   "source": [
    "<p style=\"text-align:right;font-size:0.9em\">\n",
    "&copy;Jordi Vitrià i Mireia Ribera\n",
    "</p>"
   ]
  }
 ],
 "metadata": {
  "kernelspec": {
   "display_name": "Python 3",
   "language": "python",
   "name": "python3"
  },
  "language_info": {
   "codemirror_mode": {
    "name": "ipython",
    "version": 3
   },
   "file_extension": ".py",
   "mimetype": "text/x-python",
   "name": "python",
   "nbconvert_exporter": "python",
   "pygments_lexer": "ipython3",
   "version": "3.6.5"
  }
 },
 "nbformat": 4,
 "nbformat_minor": 2
}
