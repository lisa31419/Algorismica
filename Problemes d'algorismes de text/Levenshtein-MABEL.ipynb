{
 "cells": [
  {
   "cell_type": "markdown",
   "metadata": {},
   "source": [
    "<p style=\"text-align:right;font-size:0.9em\">\n",
    "Grau d'Enginyeria Informàtica. Algorísmica\n",
    "</p>"
   ]
  },
  {
   "cell_type": "markdown",
   "metadata": {},
   "source": [
    "<h1 style=\"padding:0.5em 0;font:Garamond;font-size:1-5em;color:#F90;background-color:#005\">\n",
    "Problema: Levenshtein\n",
    "</h1>"
   ]
  },
  {
   "cell_type": "markdown",
   "metadata": {},
   "source": [
    "## Introducció\n",
    "\n",
    "Una seqüència genètica és un string format per caràcters d’un alfabet de quatre lletres: ``A, T, G`` i ``C``, que corresponen a les macromolècules base de l’ADN. Un gen és una seqüència genètica que conté la informació necessària per construir una proteïna. La unió de tots els gens constitueixen el genoma. \n",
    "\n",
    "Cada cèl•lula produïda pel cos rep una còpia del genoma, però a vegades, aquesta còpia és lleugerament “defectuosa”. Els “defectes” van des de la substitució d’una base per una altra fins a la pèrdua d’un substring de la seqüència. \n",
    "\n",
    "+ Baixa't el fitxer HUMAN-DNA.txt al teu directori. \n",
    "\n",
    "Aquest fitxer conté una part del ADN del cromosoma 2 humà.\n",
    "\n",
    "## Pregunta 1\n",
    "\n",
    "+ Fes una funció, anomenada ``dna``, basada en l’algorisme de Levenshtein, que busqui dins de **cada una de les línies del fitxer anterior** les següents seqüències genètiques i digui a quina línia les ha trobat amb mínima distància i quina és aquesta distància (si està a varies línies, que indiqui la primera línia en la que apareix a distància mínima):\n",
    "\n",
    "        AGATACATTAGAACAATAGAGATGTGGTC\n",
    "        GTCAGTCTGGCACTTGCCATTGGTGCCACCA\n",
    "        TACCGAGAAGCATGGATTACAGCATGTACCATCAT\n",
    "        \n",
    "Al fer-ho, has de tenir en compte que a les aplicacions bioinformàtiques, els costos de les operacions d’edició són lleugerament diferents de les que hem vist fins ara:\n",
    "\n",
    "+ Per un salt/inserció (al patró o al text): 2; \n",
    "+ Per una substitució: 1; \n",
    "+ Quan hi ha correspondència: 0.\n",
    "\n",
    "Adapta la funció ``dna`` a aquests costos. La funció no ha de tenir cap tipus d’entrada de part de l’usuari, i la sortida ha d'indicar la línia i distància mínimes per cada patró, i el temps de càlcul en milisegons."
   ]
  },
  {
   "cell_type": "code",
   "execution_count": 1,
   "metadata": {},
   "outputs": [],
   "source": [
    "def lev_distance(first, second):\n",
    "    if len(first) > len(second):\n",
    "        first, second = second, first\n",
    "    if len(second) == 0:\n",
    "        return len(first)\n",
    "    first_length = len(first) + 1\n",
    "    second_length = len(second) + 1\n",
    "    distance_matrix =[[0] * second_length for x in range(first_length)]\n",
    "    for i in range(first_length):\n",
    "        distance_matrix[i][0] = i\n",
    "    for j in range(second_length):\n",
    "        distance_matrix[0][j] = 0\n",
    "    for i in range(1, first_length):\n",
    "        for j in range(1, second_length):\n",
    "            deletion = distance_matrix[i-1][j] + 2\n",
    "            insertion = distance_matrix[i][j-1] + 2\n",
    "            substitution = distance_matrix[i-1][j-1]\n",
    "            if first[i-1] != second[j-1]:\n",
    "                substitution += 1\n",
    "            distance_matrix[i][j] = min(insertion,deletion, substitution)\n",
    "    num = distance_matrix[first_length-1][0]\n",
    "    for i in range(second_length):\n",
    "        if(num > distance_matrix[first_length-1][i]):\n",
    "            num = distance_matrix[first_length-1][i]\n",
    "    return(num)"
   ]
  },
  {
   "cell_type": "code",
   "execution_count": 2,
   "metadata": {},
   "outputs": [
    {
     "data": {
      "text/plain": [
       "(['AGATACATTAGAACAATAGAGATGTGGTC', 32, 11],\n",
       " ['GTCAGTCTGGCACTTGCCATTGGTGCCACCA', 352, 11],\n",
       " ['TACCGAGAAGCATGGATTACAGCATGTACCATCAT', 233, 13])"
      ]
     },
     "execution_count": 2,
     "metadata": {},
     "output_type": "execute_result"
    }
   ],
   "source": [
    "import time\n",
    "def dna():\n",
    "    \"\"\"\n",
    "    Aquest programa cerca unes determinades seqüències al fitxer HUMAN-DNA.txt\n",
    "    :return una llista, de tres llistes, un per cada seqüència a cercar. A cadascuna\n",
    "            de les subllistes hi ha tres elements. El primer element és la seqüència, \n",
    "            el segon la línia en la que aquesta seqüència apareix en el fitxer \n",
    "            a distància mínima, i el tercer aquesta distància mínima.\n",
    "    \"\"\"\n",
    "    cont = 0\n",
    "    with open(\"HUMAN-DNA.txt\",\"r\") as file:\n",
    "        dis1 = 150\n",
    "        dis2 = 150\n",
    "        dis3 = 150\n",
    "        for i in file:\n",
    "            cont += 1\n",
    "            num1 = lev_distance(\"AGATACATTAGACAATAGAGATGTGGTC\", i)\n",
    "            num2 = lev_distance(\"GTCAGTCTGGCCTTGCCATTGGTGCCACCA\", i)\n",
    "            num3 = lev_distance(\"TACCGAGAAGCTGGATTACAGCATGTACCATCAT\", i)\n",
    "            \n",
    "            if(num1 < dis1):\n",
    "                dis1 = num1;\n",
    "                line1 = cont\n",
    "            if(num2 < dis2):\n",
    "                dis2 = num2;\n",
    "                line2 = cont\n",
    "            if(num3 < dis3):\n",
    "                dis3 = num3;\n",
    "                line3 = cont\n",
    "  \n",
    "    return(['AGATACATTAGAACAATAGAGATGTGGTC',line1, dis1],\n",
    "           ['GTCAGTCTGGCACTTGCCATTGGTGCCACCA',line2,dis2],\n",
    "           ['TACCGAGAAGCATGGATTACAGCATGTACCATCAT',line3,dis3])\n",
    "dna()"
   ]
  },
  {
   "cell_type": "code",
   "execution_count": 3,
   "metadata": {},
   "outputs": [
    {
     "name": "stdout",
     "output_type": "stream",
     "text": [
      "6.76 s ± 71.9 ms per loop (mean ± std. dev. of 7 runs, 1 loop each)\n"
     ]
    }
   ],
   "source": [
    "%timeit dna()"
   ]
  },
  {
   "cell_type": "code",
   "execution_count": 12,
   "metadata": {},
   "outputs": [
    {
     "data": {
      "text/plain": [
       "[['AGATACATTAGACAATAGAGATGTGGTC', 32, 11],\n",
       " ['GTCAGTCTGGCCTTGCCATTGGTGCCACCA', 352, 11],\n",
       " ['TACCGAGAAGCTGGATTACAGCATGTACCATCAT', 233, 13],\n",
       " 2.7117291091393665]"
      ]
     },
     "execution_count": 12,
     "metadata": {},
     "output_type": "execute_result"
    }
   ],
   "source": [
    "# La solució correcta és aquesta, tot i que el temps pot variar\n",
    "[['AGATACATTAGACAATAGAGATGTGGTC', 32, 11],\n",
    " ['GTCAGTCTGGCCTTGCCATTGGTGCCACCA', 352, 11],\n",
    " ['TACCGAGAAGCTGGATTACAGCATGTACCATCAT', 233, 13],\n",
    " 2.7117291091393665]"
   ]
  },
  {
   "cell_type": "markdown",
   "metadata": {},
   "source": [
    "*Recordatori de teoria*: El càlcul de la distancia d’un patró al substring més semblant d’un text es pot fer amb l’algorisme de Levenshtein. L’única diferència és que s’ha d’inicialitzar la primera fila amb zeros (=considerar que podem inserir tants espais en blanc al davant del patró com sigui necessari)  i que la distancia d’edició serà el valor mínim de l’última fila de la matriu de costos. També heu de tenir en compte els costos en la inicialització de la primera columna."
   ]
  },
  {
   "cell_type": "markdown",
   "metadata": {},
   "source": [
    "<p style=\"text-align:right;font-size:0.9em\">\n",
    "&copy;Jordi Vitrià i Mireia Ribera\n",
    "</p>"
   ]
  }
 ],
 "metadata": {
  "kernelspec": {
   "display_name": "Python 3",
   "language": "python",
   "name": "python3"
  },
  "language_info": {
   "codemirror_mode": {
    "name": "ipython",
    "version": 3
   },
   "file_extension": ".py",
   "mimetype": "text/x-python",
   "name": "python",
   "nbconvert_exporter": "python",
   "pygments_lexer": "ipython3",
   "version": "3.6.5"
  }
 },
 "nbformat": 4,
 "nbformat_minor": 2
}
