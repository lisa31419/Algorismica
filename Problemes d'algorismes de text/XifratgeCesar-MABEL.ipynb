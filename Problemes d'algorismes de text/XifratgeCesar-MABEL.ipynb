{
 "cells": [
  {
   "cell_type": "markdown",
   "metadata": {},
   "source": [
    "<p style=\"text-align:right;font-size:0.9em\">\n",
    "Grau d'Enginyeria Informàtica. Algorísmica\n",
    "</p>"
   ]
  },
  {
   "cell_type": "markdown",
   "metadata": {},
   "source": [
    "<h1 style=\"padding:0.5em 0;font:Garamond;font-size:1-5em;color:#F90;background-color:#005\">\n",
    "Problema: Xifratge César\n",
    "</h1>"
   ]
  },
  {
   "cell_type": "markdown",
   "metadata": {},
   "source": [
    "El xifratge del Cèsar és un xifratge simple de substitució de  lletres que consisteix en canviar cada lletra d’un missatge per la lletra que es troba un cert nombre $n$ de posicions més enllà a l’alfabet. Aquesta variable $n$ és la clau de xifratge. Per exemple, si  $n=3$, el substitut de la ``a`` és la ``d``. El missatge original es pot recuperar fent servir el codi al revés (a l’exemple, faríem servir  $n=-3$ per a desxifrar). \n",
    "\n",
    "+ Escriu una funció, ``cesar``, que demani una clau pel xifratge i una frase (formada per lletres i espais) per xifrar. La sortida ha de ser la frase xifrada."
   ]
  },
  {
   "cell_type": "code",
   "execution_count": 1,
   "metadata": {},
   "outputs": [
    {
     "data": {
      "text/plain": [
       "'gata'"
      ]
     },
     "execution_count": 1,
     "metadata": {},
     "output_type": "execute_result"
    }
   ],
   "source": [
    "def cesar(paraula,n):\n",
    "    lletras = 'abcdefghijklmnñopqrstuvwxyz'\n",
    "    paraulaFinal = \"\"\n",
    "    for x in paraula:\n",
    "        if x in lletras:\n",
    "            num = lletras.find(x)\n",
    "            num += n\n",
    "            if (num >= len(lletras)):\n",
    "                num -= len(lletras)\n",
    "            elif (num < 0):\n",
    "                num += len(lletras)\n",
    "            paraulaFinal += lletras[num]\n",
    "    return(paraulaFinal)\n",
    "\n",
    "cesar('kexe',-4)"
   ]
  },
  {
   "cell_type": "markdown",
   "metadata": {},
   "source": [
    "## Pregunta 1\n",
    "\n",
    "Baixeu‐vos la lletra d’una cançó qualsevol (per exemple, de http://www.azlyrics.com/) i copieu-la a un fitxer anomenat lletra.txt. Donada la següent funció:"
   ]
  },
  {
   "cell_type": "code",
   "execution_count": 73,
   "metadata": {},
   "outputs": [],
   "source": [
    "# Come as you are, Nirvana\n",
    "f = open(\"lletra.txt\",\"w\") \n",
    "f.write(\"come as you are as you were\\n\")\n",
    "f.write(\"as I want you to be\\n\")\n",
    "f.write(\"as a friend as a friend\\n\")\n",
    "f.write(\"as a known enemy\\n\")\n",
    "\n",
    "f.write(\"take your time hurry up\\n\")\n",
    "f.write(\"choice is yours don't be late\\n\")\n",
    "f.write(\"take a rest as a friend\\n\")\n",
    "f.write(\"as an old\\n\")\n",
    "\n",
    "f.write(\"memoria memoria\\n\")\n",
    "\n",
    "\n",
    "f.write(\"come doused in mud soaked in bleach\\n\")\n",
    "f.write(\"as I want you to be\\n\")\n",
    "f.write(\"as a trend as a friend\\n\")\n",
    "f.write(\"as an old\\n\")\n",
    "\n",
    "f.write(\"memoria memoria\\n\")\n",
    "\n",
    "f.write(\"when I swear that I don't have a gun\\n\")\n",
    "f.write(\"no I don't have a gun\\n\")\n",
    "f.write(\"no I don't have a gun\\n\")\n",
    "\n",
    "f.write(\"memoria memoria\\n\")\n",
    "f.write(\"memoria memoria\\n\")\n",
    "f.write(\"and I don't have a gun\\n\")\n",
    "\n",
    "f.write(\"when I swear that I don't have a gun\\n\")\n",
    "f.write(\"no I don't have a gun\\n\")\n",
    "\n",
    "f.write(\"memoria memoria\\n\")\n",
    "\n",
    "f.close()"
   ]
  },
  {
   "cell_type": "code",
   "execution_count": 92,
   "metadata": {},
   "outputs": [],
   "source": [
    "def lyrics():\n",
    "    f = open(\"lletra.txt\",\"r\")\n",
    "    text = f.readlines()\n",
    "    f.close()\n",
    "    fitxer = open(\"lletra_cesar.txt\",\"w\")\n",
    "    for line in text:\n",
    "            fitxer.write(cesar(line,5)+\"\\n\")\n",
    "    fitxer.close() \n",
    "\n",
    "lyrics()"
   ]
  },
  {
   "cell_type": "markdown",
   "metadata": {},
   "source": [
    "Executeu-la per veure què fa, i modifiqueu-la de manera que escrigui en un altre fitxer, lletra_cesar.txt (i no per pantalla) la cançó segons el xifratge del Cèsar amb  n=5 , fent que escrigui el nombre de línia al començament de cada línia."
   ]
  },
  {
   "cell_type": "code",
   "execution_count": 98,
   "metadata": {},
   "outputs": [
    {
     "name": "stdout",
     "output_type": "stream",
     "text": [
      "1 htqjfxdtzfwjfxdtzbjwj\n",
      "\n",
      "2 fxbfrydtzytgj\n",
      "\n",
      "3 fxfkwnjrifxfkwnjri\n",
      "\n",
      "4 fxfortbrjrjqd\n",
      "\n",
      "5 yfojdtzwynqjmzwwdzu\n",
      "\n",
      "6 hmtnhjnxdtzwxitrygjpfyj\n",
      "\n",
      "7 yfojfwjxyfxfkwnjri\n",
      "\n",
      "8 fxfrtpi\n",
      "\n",
      "9 qjqtwnfqjqtwnf\n",
      "\n",
      "10 htqjitzxjinrqzixtfojinrgpjfhm\n",
      "\n",
      "11 fxbfrydtzytgj\n",
      "\n",
      "12 fxfywjrifxfkwnjri\n",
      "\n",
      "13 fxfrtpi\n",
      "\n",
      "14 qjqtwnfqjqtwnf\n",
      "\n",
      "15 bmjrxbjfwymfyitrymfajflzr\n",
      "\n",
      "16 rtitrymfajflzr\n",
      "\n",
      "17 rtitrymfajflzr\n",
      "\n",
      "18 qjqtwnfqjqtwnf\n",
      "\n",
      "19 qjqtwnfqjqtwnf\n",
      "\n",
      "20 friitrymfajflzr\n",
      "\n",
      "21 bmjrxbjfwymfyitrymfajflzr\n",
      "\n",
      "22 rtitrymfajflzr\n",
      "\n",
      "23 qjqtwnfqjqtwnf\n",
      "\n"
     ]
    }
   ],
   "source": [
    "def cesar2():\n",
    "    fitxer = open(\"lletra_cesar.txt\",\"r\")\n",
    "    text = fitxer.readlines()\n",
    "    fitxer.close()\n",
    "    num = 1\n",
    "    for line in text:\n",
    "        print(str(num) + \" \" +line)\n",
    "        num += 1\n",
    "    \n",
    "cesar2()"
   ]
  },
  {
   "cell_type": "markdown",
   "metadata": {},
   "source": [
    "<p style=\"text-align:right;font-size:0.9em\">\n",
    "&copy;Jordi Vitrià i Mireia Ribera\n",
    "</p>"
   ]
  }
 ],
 "metadata": {
  "kernelspec": {
   "display_name": "Python 3",
   "language": "python",
   "name": "python3"
  },
  "language_info": {
   "codemirror_mode": {
    "name": "ipython",
    "version": 3
   },
   "file_extension": ".py",
   "mimetype": "text/x-python",
   "name": "python",
   "nbconvert_exporter": "python",
   "pygments_lexer": "ipython3",
   "version": "3.6.5"
  }
 },
 "nbformat": 4,
 "nbformat_minor": 2
}
