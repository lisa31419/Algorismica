{
 "cells": [
  {
   "cell_type": "markdown",
   "metadata": {},
   "source": [
    "<p style=\"text-align:right;font-size:0.9em\">\n",
    "Grau d'Enginyeria Informàtica. Algorísmica. Curs 2017-2018\n",
    "</p>"
   ]
  },
  {
   "cell_type": "markdown",
   "metadata": {},
   "source": [
    "<h1 style=\"padding:0.5em 0;font:Garamond;font-size:1-5em;color:#F90;background-color:#005\">\n",
    "Problema: Run Length Encoding\n",
    "</h1>"
   ]
  },
  {
   "cell_type": "markdown",
   "metadata": {},
   "source": [
    "<div style=\"font-family:Arial;font-size:1em\">\n",
    "<p>\n",
    "Compressió de dades Run Length Encoding (RLE): Escriu una funció que donat un text de lletres ASCII el codifiqui segons l’algorisme RLE.\n",
    "</p>\n",
    "<p>\n",
    "Run Length Encoding és un algorisme de compressió de dades sense pèrdua que es basa en codificar els valors repetits un sol cop juntament amb el seu recompte.\n",
    "</p>\n",
    "<p>\n",
    "Per exemple: Imaginem una pantalla amb text negre sobre blanc. Una línia d’aquesta pantalla podria ser:\n",
    "BBBBBBBNBBBBBBBBBBBBBNNNBBBBBBBBBBBBNBBBBBBBBB\n",
    "</p>\n",
    "<p>\n",
    "Aquesta línia es podria indicar de manera comprimida amb Run Length Encoding com a:\n",
    "B7N1B13N3B12N1B9\n",
    "</p>\n",
    "<p>\n",
    "De manera que es podria reinterpretar com 7 caràcters blancs, 1 de negre, 13 de blancs, 3 de negres, 12 de blancs, 1 de negre i 9 de blancs recuperant la línia original sense cap pèrdua.\n",
    "</p>\n",
    "</div>"
   ]
  },
  {
   "cell_type": "code",
   "execution_count": 1,
   "metadata": {},
   "outputs": [],
   "source": [
    "# Inserir aquí el codi de la solució\n",
    "def RLE(text):\n",
    "    text += \"?\"\n",
    "    comptador = 1\n",
    "    textFinal = \"\"\n",
    "    for i in range(len(text)-1):\n",
    "        if text[i]==text[i+1]:\n",
    "            comptador += 1\n",
    "        else:\n",
    "            textFinal += (text[i] + str(comptador))\n",
    "            comptador = 1\n",
    "        \n",
    "    \n",
    "    return(textFinal) "
   ]
  },
  {
   "cell_type": "code",
   "execution_count": 2,
   "metadata": {},
   "outputs": [
    {
     "data": {
      "text/plain": [
       "'B7N1B13N3B12N1B9'"
      ]
     },
     "execution_count": 2,
     "metadata": {},
     "output_type": "execute_result"
    }
   ],
   "source": [
    "RLE(\"BBBBBBBNBBBBBBBBBBBBBNNNBBBBBBBBBBBBNBBBBBBBBB\")"
   ]
  },
  {
   "cell_type": "markdown",
   "metadata": {},
   "source": [
    "<h2 style=\"padding:0.5em 0;font:Garamond;font-size:1.2em;color:#FA0;background-color:#005\">\n",
    "Pregunta 1: Quina solució hauria de donar per als següents valors:\n",
    "</h2>"
   ]
  },
  {
   "cell_type": "markdown",
   "metadata": {},
   "source": [
    "- Linia:ABBBBNNNEEEDDDZZAAAAA\n",
    "- Linia:BBBBBBBBBBBBBBBBBWWWWWWZAAA"
   ]
  },
  {
   "cell_type": "code",
   "execution_count": 21,
   "metadata": {},
   "outputs": [
    {
     "data": {
      "text/plain": [
       "'A1B4N3E3D3Z2A5'"
      ]
     },
     "execution_count": 21,
     "metadata": {},
     "output_type": "execute_result"
    }
   ],
   "source": [
    "# Inserir aquí les respostes\n",
    "RLE(\"ABBBBNNNEEEDDDZZAAAAA\")"
   ]
  },
  {
   "cell_type": "code",
   "execution_count": 22,
   "metadata": {},
   "outputs": [
    {
     "data": {
      "text/plain": [
       "'B17W6Z1A3'"
      ]
     },
     "execution_count": 22,
     "metadata": {},
     "output_type": "execute_result"
    }
   ],
   "source": [
    "RLE(\"BBBBBBBBBBBBBBBBBWWWWWWZAAA\")"
   ]
  },
  {
   "cell_type": "markdown",
   "metadata": {},
   "source": [
    "<h2 style=\"padding:0.5em 0;font:Garamond;font-size:1.2em;color:#FA0;background-color:#005\">\n",
    "Pregunta 2: Quants caràcters s’escurça el text comprimit? Comenta el cas millor i el cas pitjor.\n",
    "</h2>"
   ]
  },
  {
   "cell_type": "markdown",
   "metadata": {
    "collapsed": true
   },
   "source": [
    "En el mejor caso solo lee 1 caracter en todo el string (p.e. BBBBBB sería B6), mientras que en el peor caso cada caracter es distinto del anterior y lee n caracteres (p.e. BGUHD sería B1G1U1H1D1).\n",
    "El caso medio sería que algunos caracteres contiguos son iguales entre si y leerá solo los caracteres diferentes (p.e. los del código de arriba). "
   ]
  },
  {
   "cell_type": "markdown",
   "metadata": {},
   "source": [
    "<h2 style=\"padding:0.5em 0;font:Garamond;font-size:1.2em;color:#FA0;background-color:#005\">\n",
    "Pregunta 3: Si el text és de llargada N, quantes operacions bàsiques cal fer per comprimir-lo?\n",
    "</h2>"
   ]
  },
  {
   "cell_type": "code",
   "execution_count": 4,
   "metadata": {
    "collapsed": true
   },
   "outputs": [],
   "source": [
    "# Inserir aquí les respostes"
   ]
  },
  {
   "cell_type": "markdown",
   "metadata": {},
   "source": [
    "<p style=\"text-align:right;font-size:0.9em\">\n",
    "&copy;Jordi Vitrià i Mireia Ribera\n",
    "</p>"
   ]
  }
 ],
 "metadata": {
  "kernelspec": {
   "display_name": "Python 3",
   "language": "python",
   "name": "python3"
  },
  "language_info": {
   "codemirror_mode": {
    "name": "ipython",
    "version": 3
   },
   "file_extension": ".py",
   "mimetype": "text/x-python",
   "name": "python",
   "nbconvert_exporter": "python",
   "pygments_lexer": "ipython3",
   "version": "3.6.5"
  }
 },
 "nbformat": 4,
 "nbformat_minor": 2
}
