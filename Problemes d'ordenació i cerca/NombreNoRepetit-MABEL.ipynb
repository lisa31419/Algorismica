{
 "cells": [
  {
   "cell_type": "markdown",
   "metadata": {},
   "source": [
    "<p style=\"text-align:right;font-size:0.9em\">\n",
    "Grau d'Enginyeria Informàtica. Algorísmica\n",
    "</p>"
   ]
  },
  {
   "cell_type": "markdown",
   "metadata": {},
   "source": [
    "<h1 style=\"padding:0.5em 0;font:Garamond;font-size:1-5em;color:#F90;background-color:#005\">\n",
    "Problema: Nombre no repetit\n",
    "</h1>"
   ]
  },
  {
   "cell_type": "markdown",
   "metadata": {},
   "source": [
    "<p style=\"font-family:Arial;font-size:1em\">\n",
    "Donada una llista de nombres en la que cada nombre apareix dues vegades (una darrera l'altra) i només hi ha un element que surt una vegada, trobar aquest element amb un algorisme  de complexitat O(logn) .\n",
    "</p>"
   ]
  },
  {
   "cell_type": "markdown",
   "metadata": {},
   "source": [
    "***encontrar con bisearch pq es el unico algorismo con O(log n)"
   ]
  },
  {
   "cell_type": "markdown",
   "metadata": {},
   "source": [
    "si solitari despres de mid: parell -> senar\n",
    "\n",
    "si esta abans: senar -> parell\n",
    "\n",
    "ir a la mitad y preguntar parell/senar"
   ]
  },
  {
   "cell_type": "code",
   "execution_count": 33,
   "metadata": {},
   "outputs": [],
   "source": [
    "def search(nums):\n",
    "    return(recsearch(nums,0,len(nums)+1))\n",
    "    \n",
    "def recsearch(nums,low, high):\n",
    "    # low, high defineixen els limits de la llista\n",
    "    # on buscar, així no cal crear noves llistes\n",
    "    \n",
    "    if len(nums)==1:\n",
    "        return nums[0]\n",
    "    if low == high:\n",
    "        print(\"none\")\n",
    "    if nums[0]!=nums[1]:\n",
    "        return nums[0]\n",
    "    if nums[-1]!=nums[-2] :\n",
    "        return nums[-1]\n",
    "    mid = (low + high) // 2    \n",
    "    items = nums[mid] \n",
    "    if nums[mid]>nums[mid-1] and nums[mid]<nums[mid+1]:\n",
    "        return items\n",
    "    if nums[mid]>nums[mid-1] and nums[mid]==nums[mid+1]:    \n",
    "        return recsearch(nums, low, mid-1)\n",
    "    if nums[mid]==nums[mid-1] and nums[mid]<nums[mid+1] :\n",
    "        return recsearch(nums, mid+1, high)"
   ]
  },
  {
   "cell_type": "code",
   "execution_count": 34,
   "metadata": {},
   "outputs": [
    {
     "data": {
      "text/plain": [
       "2"
      ]
     },
     "execution_count": 34,
     "metadata": {},
     "output_type": "execute_result"
    }
   ],
   "source": [
    "llista = [ 1, 1, 2, 4, 4, 5, 5, 6, 6 ]\n",
    "search(llista) # hauria de retornar 2"
   ]
  },
  {
   "cell_type": "markdown",
   "metadata": {},
   "source": [
    "<p style=\"text-align:right;font-size:0.9em\">\n",
    "&copy;Jordi Vitrià i Mireia Ribera\n",
    "</p>"
   ]
  }
 ],
 "metadata": {
  "kernelspec": {
   "display_name": "Python 3",
   "language": "python",
   "name": "python3"
  },
  "language_info": {
   "codemirror_mode": {
    "name": "ipython",
    "version": 3
   },
   "file_extension": ".py",
   "mimetype": "text/x-python",
   "name": "python",
   "nbconvert_exporter": "python",
   "pygments_lexer": "ipython3",
   "version": "3.6.5"
  }
 },
 "nbformat": 4,
 "nbformat_minor": 2
}
