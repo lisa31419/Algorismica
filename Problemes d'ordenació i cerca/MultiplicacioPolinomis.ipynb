{
 "cells": [
  {
   "cell_type": "markdown",
   "metadata": {},
   "source": [
    "<p style=\"text-align:right;font-size:0.9em\">\n",
    "Grau d'Enginyeria Informàtica. Algorísmica\n",
    "</p>"
   ]
  },
  {
   "cell_type": "markdown",
   "metadata": {},
   "source": [
    "<h1 style=\"padding:0.5em 0;font:Garamond;font-size:1-5em;color:#F90;background-color:#005\">\n",
    "Problema: Multiplicació de polinomis\n",
    "</h1>"
   ]
  },
  {
   "cell_type": "markdown",
   "metadata": {},
   "source": [
    "Escriu una funció, ``multPolinomi``,   que calculi la multiplicació de dos polinomis. Cada polinomi es descriurà amb una tupla amb els coeficients corresponents, per ex. 3,1,4 equival a 3x^2 + x + 4."
   ]
  },
  {
   "cell_type": "code",
   "execution_count": 7,
   "metadata": {},
   "outputs": [],
   "source": [
    "# Substitueix pass pel teu codi\n",
    "def multPolinomi(a,b):\n",
    "    return recmultPolinomi(a,b,0)\n",
    "\n",
    "def recmultPolinomi(tupla1,tupla2,i):\n",
    "    if len(tupla1) == 1:\n",
    "        return [x*tupla1[0] for x in tupla2]\n",
    "    if len(tupla2) == 1:\n",
    "        return [x*tupla2[0] for x in tupla1]\n",
    "    \n",
    "    llista = [tupla1[i]*tupla2[x] for x in range(len(tupla2)-1)]  \n",
    "    if i == len(tupla1)-1:\n",
    "        return llista\n",
    "    else:\n",
    "        return recmultPolinomi(tupla1,tupla2, i+1)\n",
    "        "
   ]
  },
  {
   "cell_type": "markdown",
   "metadata": {},
   "source": [
    "**Pista**: pots plantejar la multiplicació de manera recursiva, semblant a com la faries sobre paper: primer multipliques un element i després la resta."
   ]
  },
  {
   "cell_type": "code",
   "execution_count": 8,
   "metadata": {},
   "outputs": [
    {
     "name": "stdout",
     "output_type": "stream",
     "text": [
      "[16, 12, 8]\n"
     ]
    }
   ],
   "source": [
    "# Test de la funció\n",
    "a= (1,2,3,4)\n",
    "b=(4,3,2,1)\n",
    "print(multPolinomi(a,b))\n",
    "\n",
    "#Aquest exemple ha de retornar:\n",
    "#    [4, 11, 20, 30, 20, 11, 4]"
   ]
  },
  {
   "cell_type": "markdown",
   "metadata": {},
   "source": [
    "<p style=\"text-align:right;font-size:0.9em\">\n",
    "&copy;Jordi Vitrià i Mireia Ribera\n",
    "</p>"
   ]
  }
 ],
 "metadata": {
  "kernelspec": {
   "display_name": "Python 3",
   "language": "python",
   "name": "python3"
  },
  "language_info": {
   "codemirror_mode": {
    "name": "ipython",
    "version": 3
   },
   "file_extension": ".py",
   "mimetype": "text/x-python",
   "name": "python",
   "nbconvert_exporter": "python",
   "pygments_lexer": "ipython3",
   "version": "3.6.5"
  }
 },
 "nbformat": 4,
 "nbformat_minor": 2
}
