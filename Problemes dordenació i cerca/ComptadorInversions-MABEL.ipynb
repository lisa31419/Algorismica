{
 "cells": [
  {
   "cell_type": "markdown",
   "metadata": {},
   "source": [
    "<p style=\"text-align:right;font-size:0.9em\">\n",
    "Grau d'Enginyeria Informàtica. Algorísmica\n",
    "</p>"
   ]
  },
  {
   "cell_type": "markdown",
   "metadata": {},
   "source": [
    "<h1 style=\"padding:0.5em 0;font:Garamond;font-size:1-5em;color:#F90;background-color:#005\">\n",
    "Problema: Comptador d'inversions en una llista\n",
    "</h1>"
   ]
  },
  {
   "cell_type": "markdown",
   "metadata": {},
   "source": [
    "<p style=\"font-family:Arial;font-size:1em\">\n",
    "Donada una llista d’enters comptar quantes inversions s'han fet. Si i < j diem que s'ha fet una inversió a la parella (i, j) quan A[i] > A [j] .\n",
    "</p>"
   ]
  },
  {
   "cell_type": "markdown",
   "metadata": {},
   "source": [
    "<div style=\"font-style:italic\">\n",
    "Per exemple:\n",
    "<ul>\n",
    "<li>Llista=[3,1,5,2,7,8,4]</li>\n",
    "<li>Solució:\n",
    "   <ul>\n",
    "   <li>S'han fet 6 inversions a la llista</li>\n",
    "   <li>Les inversions són: (3,1),(3,2),(5,2),(5,4),(7,4),(8,4)</li>\n",
    "   </ul>\n",
    "</li>\n",
    "</ul>\n",
    "</div>"
   ]
  },
  {
   "cell_type": "code",
   "execution_count": 31,
   "metadata": {},
   "outputs": [],
   "source": [
    "def merge(left, right):\n",
    "    result = []\n",
    "    i ,j = 0, 0\n",
    "    comptador = 0\n",
    "    while(i < len(left) and j < len(right)):\n",
    "        if (left[i] <= right[j]):\n",
    "            result.append(left[i])\n",
    "            i = i + 1\n",
    "        else:\n",
    "            result.append(right[j])\n",
    "            j += 1\n",
    "\n",
    "    result += left[i:]\n",
    "    result += right[j:]\n",
    "    return result"
   ]
  },
  {
   "cell_type": "code",
   "execution_count": 39,
   "metadata": {},
   "outputs": [
    {
     "name": "stdout",
     "output_type": "stream",
     "text": [
      "6\n"
     ]
    }
   ],
   "source": [
    "comptador = 0\n",
    "def mergesort(list):   \n",
    "    if len(list) < 2:\n",
    "        return list\n",
    "    else:\n",
    "        middle = len(list) // 2\n",
    "        left = mergesort(list[:middle])\n",
    "        right = mergesort(list[middle:])\n",
    "        result = []\n",
    "        i ,j = 0, 0\n",
    "        global comptador \n",
    "        while(i < len(left) and j < len(right)):\n",
    "            if (left[i] <= right[j]):\n",
    "                result.append(left[i])\n",
    "                i = i + 1\n",
    "            else:\n",
    "                result.append(right[j])\n",
    "                comptador += (len(left)-i)\n",
    "                j += 1\n",
    "\n",
    "        result += left[i:]\n",
    "        result += right[j:]\n",
    "        return result\n",
    "        \n",
    "mergesort([3,1,5,2,7,8,4])\n",
    "print(comptador)"
   ]
  },
  {
   "cell_type": "markdown",
   "metadata": {},
   "source": [
    "<h2 style=\"height:2.5em;padding:0.5em 0;font:Garamond;font-size:1.2em;color:#FA0;background-color:#005\">\n",
    "Pregunta 1: Quina solució hauria de donar per als següents valors:\n",
    "</h2>"
   ]
  },
  {
   "cell_type": "markdown",
   "metadata": {},
   "source": [
    "- Llista:[1,8,6,4,5]\n",
    "- Llista:[4,6,1,3,9,4]\n",
    "- Llista3:[1,2] "
   ]
  },
  {
   "cell_type": "code",
   "execution_count": 45,
   "metadata": {},
   "outputs": [
    {
     "name": "stdout",
     "output_type": "stream",
     "text": [
      "5\n"
     ]
    }
   ],
   "source": [
    "comptador = 0\n",
    "def mergesort(list):   \n",
    "    if len(list) < 2:\n",
    "        return list\n",
    "    else:\n",
    "        middle = len(list) // 2\n",
    "        left = mergesort(list[:middle])\n",
    "        right = mergesort(list[middle:])\n",
    "        result = []\n",
    "        i ,j = 0, 0\n",
    "        global comptador \n",
    "        while(i < len(left) and j < len(right)):\n",
    "            if (left[i] <= right[j]):\n",
    "                result.append(left[i])\n",
    "                i = i + 1\n",
    "            else:\n",
    "                result.append(right[j])\n",
    "                comptador += (len(left)-i)\n",
    "                j += 1\n",
    "\n",
    "        result += left[i:]\n",
    "        result += right[j:]\n",
    "        return result\n",
    "        \n",
    "mergesort([1,8,6,4,5])\n",
    "print(comptador)"
   ]
  },
  {
   "cell_type": "code",
   "execution_count": 44,
   "metadata": {},
   "outputs": [
    {
     "name": "stdout",
     "output_type": "stream",
     "text": [
      "6\n"
     ]
    }
   ],
   "source": [
    "comptador = 0\n",
    "def mergesort(list):   \n",
    "    if len(list) < 2:\n",
    "        return list\n",
    "    else:\n",
    "        middle = len(list) // 2\n",
    "        left = mergesort(list[:middle])\n",
    "        right = mergesort(list[middle:])\n",
    "        result = []\n",
    "        i ,j = 0, 0\n",
    "        global comptador \n",
    "        while(i < len(left) and j < len(right)):\n",
    "            if (left[i] <= right[j]):\n",
    "                result.append(left[i])\n",
    "                i = i + 1\n",
    "            else:\n",
    "                result.append(right[j])\n",
    "                comptador += (len(left)-i)\n",
    "                j += 1\n",
    "\n",
    "        result += left[i:]\n",
    "        result += right[j:]\n",
    "        return result\n",
    "        \n",
    "mergesort([4,6,1,3,9,4])\n",
    "print(comptador)"
   ]
  },
  {
   "cell_type": "code",
   "execution_count": 43,
   "metadata": {},
   "outputs": [
    {
     "name": "stdout",
     "output_type": "stream",
     "text": [
      "0\n"
     ]
    }
   ],
   "source": [
    "comptador = 0\n",
    "def mergesort(list):   \n",
    "    if len(list) < 2:\n",
    "        return list\n",
    "    else:\n",
    "        middle = len(list) // 2\n",
    "        left = mergesort(list[:middle])\n",
    "        right = mergesort(list[middle:])\n",
    "        result = []\n",
    "        i ,j = 0, 0\n",
    "        global comptador \n",
    "        while(i < len(left) and j < len(right)):\n",
    "            if (left[i] <= right[j]):\n",
    "                result.append(left[i])\n",
    "                i = i + 1\n",
    "            else:\n",
    "                result.append(right[j])\n",
    "                comptador += (len(left)-i)\n",
    "                j += 1\n",
    "\n",
    "        result += left[i:]\n",
    "        result += right[j:]\n",
    "        return result\n",
    "        \n",
    "mergesort([1,2])\n",
    "print(comptador)"
   ]
  },
  {
   "cell_type": "markdown",
   "metadata": {},
   "source": [
    "<h2 style=\"height:2.5em;padding:0.5em 0;font:Garamond;font-size:1.2em;color:#FA0;background-color:#005\">\n",
    "Pregunta 2: Aquest problema et recorda algun dels algorismes que hem vist de dividir i vèncer? quin? com caldria adaptar-lo?\n",
    "</h2>"
   ]
  },
  {
   "cell_type": "code",
   "execution_count": 3,
   "metadata": {
    "collapsed": true
   },
   "outputs": [],
   "source": [
    "Al merge_sort. "
   ]
  },
  {
   "cell_type": "markdown",
   "metadata": {},
   "source": [
    "<p style=\"text-align:right;font-size:0.9em\">\n",
    "&copy;Jordi Vitrià i Mireia Ribera\n",
    "</p>"
   ]
  }
 ],
 "metadata": {
  "kernelspec": {
   "display_name": "Python 3",
   "language": "python",
   "name": "python3"
  },
  "language_info": {
   "codemirror_mode": {
    "name": "ipython",
    "version": 3
   },
   "file_extension": ".py",
   "mimetype": "text/x-python",
   "name": "python",
   "nbconvert_exporter": "python",
   "pygments_lexer": "ipython3",
   "version": "3.6.5"
  }
 },
 "nbformat": 4,
 "nbformat_minor": 2
}
