{
 "cells": [
  {
   "cell_type": "markdown",
   "metadata": {},
   "source": [
    "<p style=\"text-align:right;font-size:0.9em\">\n",
    "Grau d'Enginyeria Informàtica. Algorísmica\n",
    "</p>"
   ]
  },
  {
   "cell_type": "markdown",
   "metadata": {},
   "source": [
    "<h1 style=\"padding:0.5em 0;font:Garamond;font-size:1-5em;color:#F90;background-color:#005\">\n",
    "Problema: Menor i major relatius\n",
    "</h1>"
   ]
  },
  {
   "cell_type": "markdown",
   "metadata": {},
   "source": [
    "Fes un algorisme per trobar el major i menor relatiu a un nombre en una llista ordenada de nombres naturals.\n",
    "\n",
    "El major i menor relatiu són el nombre previ més petit o igual a ell, i el nombre següent més gran o igual a ell, o -1 si no n'hi ha.\n",
    "\n",
    "Per ex:\n",
    "\n",
    "llista=[1,4,6,8,9]\n",
    "\n",
    "+ minMax(3) => menor és 1, major és 4\n",
    "+ minMax(4) => menor és 4, major és 4\n",
    "+ minMax(5) => menor és 4, major és 6\n",
    "+ minMax(10) => menor és 9, major és -1\n",
    "\n",
    "Troba una solució d'ordre O(log n) i demostreu que té aquest ordre."
   ]
  },
  {
   "cell_type": "code",
   "execution_count": 13,
   "metadata": {},
   "outputs": [],
   "source": [
    "def minMax(k,nums):\n",
    "    recMinMax(k,nums,0,len(nums)-1)\n",
    "      \n",
    "def recMinMax(k, nums, low, high):\n",
    "    # low, high defineixen els limits de la llista\n",
    "    # on buscar, així no cal crear noves llistes\n",
    "    if k > nums[high-1]:\n",
    "        print(\"el menor es \" + str(nums[-1]) + \" y el mayor es -1\")\n",
    "        return(\"\")\n",
    "    if k < nums[0]:\n",
    "        print(\"el mayor es \" + str(nums[0]) + \" y el menor es -1\")\n",
    "        return(\" \")\n",
    "    if k in llista:\n",
    "        print(\"el menor es \" + str(k) + \" y el mayor es \"+ str(k))\n",
    "        return(\" \")\n",
    "    \n",
    "    mid = (low + high) // 2    \n",
    "    items = nums[mid]   \n",
    "    if items == k-1:\n",
    "        print(\"el menor es \" + str(items) + \" y el mayor es \"+ str(nums[mid+1]))\n",
    "    elif k < items:\n",
    "        return recMinMax(k,nums,low,mid-1)\n",
    "    else: \n",
    "        return recMinMax(k,nums,mid+1,high)"
   ]
  },
  {
   "cell_type": "code",
   "execution_count": 14,
   "metadata": {},
   "outputs": [
    {
     "name": "stdout",
     "output_type": "stream",
     "text": [
      "el menor es 9 y el mayor es -1\n"
     ]
    }
   ],
   "source": [
    "# test de la solució\n",
    "llista=[1,4,6,8,9]\n",
    "minMax(10,llista)"
   ]
  },
  {
   "cell_type": "code",
   "execution_count": 6,
   "metadata": {},
   "outputs": [
    {
     "name": "stdout",
     "output_type": "stream",
     "text": [
      "el menor es 4 y el mayor es 6\n"
     ]
    }
   ],
   "source": [
    "llista = [1,4,6,8,9]\n",
    "minMax(5,llista)"
   ]
  },
  {
   "cell_type": "markdown",
   "metadata": {},
   "source": [
    "Explica aquí la complexitat"
   ]
  },
  {
   "cell_type": "markdown",
   "metadata": {},
   "source": [
    "<p style=\"text-align:right;font-size:0.9em\">\n",
    "&copy;Jordi Vitrià i Mireia Ribera\n",
    "</p>"
   ]
  }
 ],
 "metadata": {
  "kernelspec": {
   "display_name": "Python 3",
   "language": "python",
   "name": "python3"
  },
  "language_info": {
   "codemirror_mode": {
    "name": "ipython",
    "version": 3
   },
   "file_extension": ".py",
   "mimetype": "text/x-python",
   "name": "python",
   "nbconvert_exporter": "python",
   "pygments_lexer": "ipython3",
   "version": "3.6.5"
  }
 },
 "nbformat": 4,
 "nbformat_minor": 2
}
