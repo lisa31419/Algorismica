{
 "cells": [
  {
   "cell_type": "markdown",
   "metadata": {},
   "source": [
    "<p style=\"text-align:right;font-size:0.9em\">\n",
    "Grau d'Enginyeria Informàtica. Algorísmica\n",
    "</p>"
   ]
  },
  {
   "cell_type": "markdown",
   "metadata": {},
   "source": [
    "<h1 style=\"padding:0.5em 0;font:Garamond;font-size:1-5em;color:#F90;background-color:#005\">\n",
    "Problema: Quantitat d'1s a una llista binària\n",
    "</h1>"
   ]
  },
  {
   "cell_type": "markdown",
   "metadata": {},
   "source": [
    "<p style=\"font-family:Arial;font-size:1em\">\n",
    "Donada una llista de nombres binaris ordenada, trobar de manera eficient el nombre d'1s que conté\n",
    "</p>"
   ]
  },
  {
   "cell_type": "markdown",
   "metadata": {},
   "source": [
    "<div style=\"font-style:italic\">\n",
    "Per exemple:\n",
    "<ul>\n",
    "<li>Llista=[0,0,1,1,1,1,1]</li>\n",
    "<li>Solució:\n",
    "   <ul>\n",
    "   <li>Conté 5 1s</li>\n",
    "   </ul>\n",
    "</li>\n",
    "<li>Llista=[0,0,0,0,1,1]</li>\n",
    "<li>Solució:\n",
    "   <ul>\n",
    "   <li>Conté 2 1s</li>\n",
    "   </ul>\n",
    "</li>\n",
    "</ul>\n",
    "</div>"
   ]
  },
  {
   "cell_type": "code",
   "execution_count": 50,
   "metadata": {},
   "outputs": [],
   "source": [
    "def quants1(nums):\n",
    "    return(recquants1(nums,0,len(nums)-1))\n",
    "    \n",
    "def recquants1(nums,low, high):\n",
    "    # low, high defineixen els limits de la llista\n",
    "    # on buscar, així no cal crear noves llistes\n",
    "    if len(nums)==0:\n",
    "        return 0\n",
    "    if low == high:\n",
    "        return nums[low]\n",
    "    if low>high:\n",
    "        return 0 \n",
    "    if nums[0]==1:\n",
    "        return len(nums)\n",
    "    if nums[-1]==0 :\n",
    "        return 0\n",
    "    mid = (low + high) // 2    \n",
    "    items = nums[mid] \n",
    "    if items == 1:\n",
    "        return recquants1(nums, low, mid-1) + (high-mid+1)\n",
    "    if items == 0:\n",
    "        return recquants1(nums, mid+1, high)\n",
    "    "
   ]
  },
  {
   "cell_type": "code",
   "execution_count": 51,
   "metadata": {},
   "outputs": [
    {
     "name": "stdout",
     "output_type": "stream",
     "text": [
      "0\n",
      "0\n",
      "1\n",
      "0\n",
      "6\n",
      "4\n",
      "2\n"
     ]
    }
   ],
   "source": [
    "A = []\n",
    "B = [0]\n",
    "C = [1]\n",
    "D = [0,0,0]\n",
    "E = [1,1,1,1,1,1]\n",
    "F = [0,0,1,1,1,1]\n",
    "G = [0,0,0,1,1]\n",
    "\n",
    "print(quants1(A))\n",
    "print(quants1(B))\n",
    "print(quants1(C))\n",
    "print(quants1(D))\n",
    "print(quants1(E))\n",
    "print(quants1(F))\n",
    "print(quants1(G))"
   ]
  },
  {
   "cell_type": "markdown",
   "metadata": {},
   "source": [
    "<h2 style=\"padding:0.5em 0;font:Garamond;font-size:1.2em;color:#FA0;background-color:#005\">\n",
    "Pregunta 1: Si plantegem el problema com un algorisme recursiu, quins serien els casos base? Observa els següents casos:\n",
    "</h2>"
   ]
  },
  {
   "cell_type": "markdown",
   "metadata": {},
   "source": [
    "- Llista:[0]\n",
    "- Llista:[1]\n",
    "- Llista:[]            \n",
    "        "
   ]
  },
  {
   "cell_type": "markdown",
   "metadata": {
    "collapsed": true
   },
   "source": [
    "Los casos base serían los 3 anteriores expresados de distinta forma:\n",
    " - Llista [0] sería la parte de low==high o nums[-1]==0, que también serviría para listas de ceros de diversa longitud.\n",
    " - Llista [1] sería la parte de low==high o nums[0]==1, que también serviría para listas de unos de diversa longitud.\n",
    " - Llista []  sería len(nums)==0"
   ]
  },
  {
   "cell_type": "markdown",
   "metadata": {},
   "source": [
    "<h2 style=\"padding:0.5em 0;font:Garamond;font-size:1.2em;color:#FA0;background-color:#005\">\n",
    "Pregunta 2: Calcula la complexitat de l'algorisme pel teorema del màster\n",
    "</h2>"
   ]
  },
  {
   "cell_type": "code",
   "execution_count": null,
   "metadata": {
    "collapsed": true
   },
   "outputs": [],
   "source": [
    "# Inserir aquí les respostes"
   ]
  },
  {
   "cell_type": "markdown",
   "metadata": {},
   "source": [
    "## Pregunta 3: Escriu una versió en la que llegeixis les llistes del fitxer input.txt i retornis el nombre d'1s al fitxer output.txt"
   ]
  },
  {
   "cell_type": "code",
   "execution_count": 1,
   "metadata": {},
   "outputs": [],
   "source": [
    "# Inserir aquí les respostes"
   ]
  },
  {
   "cell_type": "markdown",
   "metadata": {},
   "source": [
    "<p style=\"text-align:right;font-size:0.9em\">\n",
    "&copy;Jordi Vitrià i Mireia Ribera\n",
    "</p>"
   ]
  }
 ],
 "metadata": {
  "kernelspec": {
   "display_name": "Python 3",
   "language": "python",
   "name": "python3"
  },
  "language_info": {
   "codemirror_mode": {
    "name": "ipython",
    "version": 3
   },
   "file_extension": ".py",
   "mimetype": "text/x-python",
   "name": "python",
   "nbconvert_exporter": "python",
   "pygments_lexer": "ipython3",
   "version": "3.6.5"
  }
 },
 "nbformat": 4,
 "nbformat_minor": 2
}
