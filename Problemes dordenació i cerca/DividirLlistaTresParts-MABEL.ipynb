{
 "cells": [
  {
   "cell_type": "markdown",
   "metadata": {},
   "source": [
    "<p style=\"text-align:right;font-size:0.9em\">\n",
    "Grau d'Enginyeria Informàtica. Algorísmica\n",
    "</p>"
   ]
  },
  {
   "cell_type": "markdown",
   "metadata": {},
   "source": [
    "<h1 style=\"padding:0.5em 0;font:Garamond;font-size:1-5em;color:#F90;background-color:#005\">\n",
    "Problema: Dividir llista en tres parts segons *v*\n",
    "</h1>"
   ]
  },
  {
   "cell_type": "markdown",
   "metadata": {},
   "source": [
    "Escriu un algorisme que a partir d'una llista A i un valor v retorni tres llistes (poden estar buides): una amb els elements més petits que v, una amb els elements iguals que v, i la darrera amb els elemens més grans que v. Pots basar-te en els algorismes d'ordenació. **Calcula'n la complexitat**"
   ]
  },
  {
   "cell_type": "code",
   "execution_count": 16,
   "metadata": {},
   "outputs": [],
   "source": [
    "def dividir(llista,valor):\n",
    "    j = 0\n",
    "    for i in range(0, len(llista)):\n",
    "        if llista[i] != valor:\n",
    "            llista[i], llista[j] = llista[j], llista[i]\n",
    "            j += 1\n",
    "    return llista"
   ]
  },
  {
   "cell_type": "code",
   "execution_count": 17,
   "metadata": {},
   "outputs": [],
   "source": [
    "# Substitueix la comanda pass pel teu codi\n",
    "\n",
    "def splitllista(llista,valor):\n",
    "    dividir(llista,valor)\n",
    "    print([x for x in llista if x<valor],[y for y in llista if y==valor],[z for z in llista if z>valor])  "
   ]
  },
  {
   "cell_type": "code",
   "execution_count": 18,
   "metadata": {},
   "outputs": [
    {
     "name": "stdout",
     "output_type": "stream",
     "text": [
      "[6, 2, 4, 3, 1, 1] [7, 7, 7] [9, 8, 9]\n"
     ]
    }
   ],
   "source": [
    "# Test de la funció\n",
    "A= [6,2,9,8,7,4,3,7,1,9,7,1]\n",
    "splitllista(A,7)\n",
    "\n",
    "#Aquest exemple ha de retornar (o en algun altre ordre)\n",
    "#   [6, 2, 1, 1, 3, 4] [7, 7, 7] [9, 8, 9] "
   ]
  },
  {
   "cell_type": "markdown",
   "metadata": {},
   "source": [
    "<p style=\"text-align:right;font-size:0.9em\">\n",
    "&copy;Jordi Vitrià i Mireia Ribera\n",
    "</p>"
   ]
  }
 ],
 "metadata": {
  "kernelspec": {
   "display_name": "Python 3",
   "language": "python",
   "name": "python3"
  },
  "language_info": {
   "codemirror_mode": {
    "name": "ipython",
    "version": 3
   },
   "file_extension": ".py",
   "mimetype": "text/x-python",
   "name": "python",
   "nbconvert_exporter": "python",
   "pygments_lexer": "ipython3",
   "version": "3.6.5"
  }
 },
 "nbformat": 4,
 "nbformat_minor": 2
}
