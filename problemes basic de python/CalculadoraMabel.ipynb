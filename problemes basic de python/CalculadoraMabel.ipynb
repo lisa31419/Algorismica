{
 "cells": [
  {
   "cell_type": "markdown",
   "metadata": {},
   "source": [
    "<p style=\"text-align:right;font-size:0.9em\">\n",
    "Grau d'Enginyeria Informàtica. Algorísmica\n",
    "</p>"
   ]
  },
  {
   "cell_type": "markdown",
   "metadata": {},
   "source": [
    "<h1 style=\"padding:0.5em 0;font:Garamond;font-size:1-5em;color:#F90;background-color:#005\">\n",
    "Problema: Calculadora\n",
    "</h1>"
   ]
  },
  {
   "cell_type": "markdown",
   "metadata": {},
   "source": [
    "Creeu una funció anomenada `calculadora` que permeti fer operacions de suma, resta i multiplicació amb nombres naturals a partir d'una entrada que sigui `string`. L'usuari anirà entrant les operacions, i quan vulgui acabar farà `<Enter>`\n",
    "Exemple de funcionament:\n",
    "\n",
    "**Calculadora**\n",
    "\n",
    "     Entra operació: 4+5\n",
    "     9\n",
    "     Entra operació: 7-2\n",
    "     5\n",
    "     Entra operació: 1*4"
   ]
  },
  {
   "cell_type": "markdown",
   "metadata": {},
   "source": [
    "**Pregunta 1**: Quin tipus d'iteració cal per anar demanant dades a l'usuari? "
   ]
  },
  {
   "cell_type": "markdown",
   "metadata": {},
   "source": [
    "Un while."
   ]
  },
  {
   "cell_type": "markdown",
   "metadata": {},
   "source": [
    "**Pregunta 2**: Pensa en la descomposició de funcions. Creus que la funció `calculadora` es pot descomposar en altres? En quines?"
   ]
  },
  {
   "cell_type": "markdown",
   "metadata": {},
   "source": [
    "Sí, en 3 funciones distintas: la función suma, la función resta y la función multiplicación."
   ]
  },
  {
   "cell_type": "markdown",
   "metadata": {},
   "source": [
    "**Pregunta 3**: Escriu el codi de la funció."
   ]
  },
  {
   "cell_type": "code",
   "execution_count": 1,
   "metadata": {},
   "outputs": [],
   "source": [
    "def calculadora():\n",
    "    operacion = input(\"¿Qué operación quieres que haga? \")\n",
    "    \n",
    "    while operacion != \"\":\n",
    "        if (\"+\") in operacion :\n",
    "            a,b = operacion.split(\"+\")\n",
    "            a = int(a)\n",
    "            b = int(b)\n",
    "            print(a+b)\n",
    "            \n",
    "        if (\"-\") in operacion:\n",
    "            a,b = operacion.split(\"-\")\n",
    "            a = int(a)\n",
    "            b = int(b)\n",
    "            print(a-b)\n",
    "            \n",
    "        if (\"*\") in operacion:\n",
    "            a,b = operacion.split(\"*\")\n",
    "            a = int(a)\n",
    "            b = int(b)\n",
    "            print(a*b)\n",
    "            \n",
    "        operacion = input(\"¿Y ahora? \")\n",
    "        \n",
    "            \n"
   ]
  },
  {
   "cell_type": "code",
   "execution_count": 2,
   "metadata": {},
   "outputs": [
    {
     "name": "stdout",
     "output_type": "stream",
     "text": [
      "¿Qué operación quieres que haga? 1+1\n",
      "2\n",
      "¿Y ahora? 2-8\n",
      "-6\n",
      "¿Y ahora? 4*9\n",
      "36\n",
      "¿Y ahora? \n"
     ]
    }
   ],
   "source": [
    "calculadora()"
   ]
  },
  {
   "cell_type": "markdown",
   "metadata": {},
   "source": [
    "<p style=\"text-align:right;font-size:0.9em\">\n",
    "&copy;Jordi Vitrià i Mireia Ribera\n",
    "</p>"
   ]
  }
 ],
 "metadata": {
  "kernelspec": {
   "display_name": "Python 3",
   "language": "python",
   "name": "python3"
  },
  "language_info": {
   "codemirror_mode": {
    "name": "ipython",
    "version": 3
   },
   "file_extension": ".py",
   "mimetype": "text/x-python",
   "name": "python",
   "nbconvert_exporter": "python",
   "pygments_lexer": "ipython3",
   "version": "3.6.5"
  }
 },
 "nbformat": 4,
 "nbformat_minor": 2
}
