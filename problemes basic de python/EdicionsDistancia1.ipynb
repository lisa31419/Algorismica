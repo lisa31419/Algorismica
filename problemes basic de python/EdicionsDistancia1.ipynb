{
 "cells": [
  {
   "cell_type": "markdown",
   "metadata": {},
   "source": [
    "<p style=\"text-align:right;font-size:0.9em\">\n",
    "Grau d'Enginyeria Informàtica. Algorísmica. \n",
    "</p>"
   ]
  },
  {
   "cell_type": "markdown",
   "metadata": {},
   "source": [
    "<h1 style=\"padding:0.5em 0;font:Garamond;font-size:1-5em;color:#F90;background-color:#005\">\n",
    "Problema: Generació de les edicions a distància 1 d'una paraula\n",
    "</h1>"
   ]
  },
  {
   "cell_type": "markdown",
   "metadata": {},
   "source": [
    "Escriure un programa que generi **el conjunt** de totes les variacions d'edició (distància 1) d'una paraula. \n",
    "\n",
    "Suposem que:\n",
    "+ Només usem les lletres ``abcdefghijklmnopqrstuvwxyz``\n",
    "+ Les operacions d'edició són: eliminar una lletra (deletes) , transposar un parell de lletres (transpose), reemplaçar una lletra per una altra (replaces) i insertar una lletra de l'abecedari.\n",
    "\n",
    "Indicacions: \n",
    "+ Cada un dels tipus d'edició es pot escriure com una *comprehension*.\n",
    "+ Si la primera cosa que feu al principi és considerar totes les divisions possibles d'una paraula (per exemple, si per la paraula ```casa``` genereu ```('', 'casa'), ('c', 'asa'), ('ca', 'sa'), ('cas', 'a'), ('casa', '')```), es poden generar les edicions a partir d'aquesta llista."
   ]
  },
  {
   "cell_type": "code",
   "execution_count": 5,
   "metadata": {},
   "outputs": [
    {
     "data": {
      "text/plain": [
       "{'',\n",
       " 'ha',\n",
       " 'hah',\n",
       " 'hb',\n",
       " 'hbh',\n",
       " 'hc',\n",
       " 'hch',\n",
       " 'hd',\n",
       " 'hdh',\n",
       " 'he',\n",
       " 'heh',\n",
       " 'hf',\n",
       " 'hfh',\n",
       " 'hg',\n",
       " 'hgh',\n",
       " 'hh',\n",
       " 'hhh',\n",
       " 'hi',\n",
       " 'hih',\n",
       " 'hj',\n",
       " 'hjh',\n",
       " 'hk',\n",
       " 'hkh',\n",
       " 'hl',\n",
       " 'hlh',\n",
       " 'hm',\n",
       " 'hmh',\n",
       " 'hn',\n",
       " 'hnh',\n",
       " 'ho',\n",
       " 'hoh',\n",
       " 'hp',\n",
       " 'hph',\n",
       " 'hq',\n",
       " 'hqh',\n",
       " 'hr',\n",
       " 'hrh',\n",
       " 'hs',\n",
       " 'hsh',\n",
       " 'ht',\n",
       " 'hth',\n",
       " 'hu',\n",
       " 'huh',\n",
       " 'hv',\n",
       " 'hvh',\n",
       " 'hw',\n",
       " 'hwh',\n",
       " 'hx',\n",
       " 'hxh',\n",
       " 'hy',\n",
       " 'hyh',\n",
       " 'hz',\n",
       " 'hzh'}"
      ]
     },
     "execution_count": 5,
     "metadata": {},
     "output_type": "execute_result"
    }
   ],
   "source": [
    "def edit(word):\n",
    "    letters    = 'abcdefghijklmnopqrstuvwxyz'\n",
    "    splits     = [(word[:i], word[i:]) for i in range(len(word) + 1)]\n",
    "    deletes    = [(word[:i] + word[i+1:]) for i in range(len(word))]\n",
    "    transposes = [(word[:i] + word[j] + word[i+1:j] + word[i] + word[j+1:]) \n",
    "                  for i in range(len(word)) for j in range(i+1, len(word))]\n",
    "    replaces   = [(word[i] + letters[j] + word[i+1:]) for i in range(len(word)) for j in range(len(letters))]\n",
    "    inserts    = [(word[i] + letters[j] + word[i:]) for i in range(len(word)) for j in range(len(letters))]\n",
    "    return set(deletes + transposes + replaces + inserts)\n",
    "\n",
    "edit('h')\n",
    "                     #{'','a','ah','b', 'bh', 'c', 'ch', 'd', 'dh', 'e', 'eh', 'f', 'fh', \n",
    "                     # 'g', 'gh', 'h', 'ha', 'hb', 'hc', 'hd', 'he', 'hf', 'hg', 'hh',\n",
    "                     #'hi', 'hj', 'hk', 'hl', 'hm', 'hn', 'ho', 'hp', 'hq', 'hr', 'hs',\n",
    "                     #'ht', 'hu', 'hv', 'hw', 'hx', 'hy', 'hz', 'i', 'ih', 'j', 'jh',\n",
    "                     #'k', 'kh', 'l', 'lh', 'm', 'mh', 'n', 'nh', 'o', 'oh', 'p', 'ph',\n",
    "                     # 'q', 'qh', 'r', 'rh', 's', 'sh', 't',  'th', 'u', 'uh', 'v', 'vh',\n",
    "                     #'w', 'wh', 'x', 'xh', 'y', 'yh', 'z', 'zh'}"
   ]
  },
  {
   "cell_type": "code",
   "execution_count": 2,
   "metadata": {},
   "outputs": [
    {
     "name": "stdout",
     "output_type": "stream",
     "text": [
      "[('', 'abcd'), ('a', 'bcd'), ('ab', 'cd'), ('abc', 'd'), ('abcd', '')]\n"
     ]
    }
   ],
   "source": [
    "# Per entendre millor el que retorna splits, fes una prova independent\n",
    "\n",
    "def edit(word):\n",
    "    letters    = 'abcdefghijklmnopqrstuvwxyz'\n",
    "    splits     = [(word[:i], word[i:]) for i in range(len(word) + 1)]\n",
    "    print(splits)\n",
    "\n",
    "edit(\"abcd\")    "
   ]
  },
  {
   "cell_type": "code",
   "execution_count": null,
   "metadata": {},
   "outputs": [],
   "source": [
    "# Fixat que en alguns casos R no té contingut. \n",
    "# Si vols accedir a una part de R i comprovar que contingui alguna cosa pots fer servir la condició 'if R'"
   ]
  },
  {
   "cell_type": "markdown",
   "metadata": {},
   "source": [
    "<h2 style=\"padding:0.5em 0;font:Garamond;font-size:1.2em;color:#FA0;background-color:#005\">\n",
    "Pregunta 1: Posa un exemple de cadascuna de les operacions d'edició amb la paraula \"casa\" indicant quina operació és i on s'ha aplicat\n",
    "</h2>"
   ]
  },
  {
   "cell_type": "code",
   "execution_count": null,
   "metadata": {
    "collapsed": true
   },
   "outputs": [],
   "source": [
    "# Inserir aquí les respostes"
   ]
  },
  {
   "cell_type": "markdown",
   "metadata": {},
   "source": [
    "<p style=\"text-align:right;font-size:0.9em\">\n",
    "&copy;Jordi Vitrià i Mireia Ribera\n",
    "</p>"
   ]
  }
 ],
 "metadata": {
  "kernelspec": {
   "display_name": "Python 3",
   "language": "python",
   "name": "python3"
  },
  "language_info": {
   "codemirror_mode": {
    "name": "ipython",
    "version": 3
   },
   "file_extension": ".py",
   "mimetype": "text/x-python",
   "name": "python",
   "nbconvert_exporter": "python",
   "pygments_lexer": "ipython3",
   "version": "3.6.5"
  }
 },
 "nbformat": 4,
 "nbformat_minor": 2
}
