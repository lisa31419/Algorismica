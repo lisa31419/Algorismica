{
 "cells": [
  {
   "cell_type": "markdown",
   "metadata": {},
   "source": [
    "<p style=\"text-align:right;font-size:0.9em\">\n",
    "Grau d'Enginyeria Informàtica. Algorísmica. \n",
    "</p>"
   ]
  },
  {
   "cell_type": "markdown",
   "metadata": {},
   "source": [
    "<h1 style=\"padding:0.5em 0;font:Garamond;font-size:1-5em;color:#F90;background-color:#005\">\n",
    "Problema: Sumatori de parelles\n",
    "</h1>"
   ]
  },
  {
   "cell_type": "markdown",
   "metadata": {},
   "source": [
    "<p style=\"font-family:Arial;font-size:1em\">\n",
    "Donada una llista d’enters i  un valor de suma, trobar totes les parelles de nombres a la llista que sumin aquest valor.\n",
    "</p>"
   ]
  },
  {
   "cell_type": "markdown",
   "metadata": {},
   "source": [
    "<div style=\"font-style:italic\">\n",
    "Per exemple:\n",
    "<ul>\n",
    "<li>Llista=[3,1,5,2,7,8], Suma=10</li>\n",
    "<li>Solució:\n",
    "   <ul>\n",
    "   <li>Parella trobada als índexs 0 i 4,  (3 + 7)</li>\n",
    "   <li>Parella trobada als índexs 3 i 5 (2+8)</li>\n",
    "   </ul>\n",
    "</li>\n",
    "</ul>\n",
    "</div>"
   ]
  },
  {
   "cell_type": "code",
   "execution_count": 35,
   "metadata": {},
   "outputs": [],
   "source": [
    "def parellesSuma(llista, valorSuma):\n",
    "    \"\"\"\n",
    "    Aquesta funció, donada una llista d’enters i  un valor de suma,\n",
    "    troba una parella de nombres a la llista que sumin aquest valor.\n",
    "    :param llista una llista d'enters\n",
    "    :param valorSuma un enter amb el valor de la suma\n",
    "    :return: No retorna res, mostra per pantalla el resultat\n",
    "    \"\"\"\n",
    "    llis = []\n",
    "    for x in llista:\n",
    "        for y in llista:\n",
    "            if (x+y)==valorSuma and not((x,y) in llis) and not((y,x) in llis) :\n",
    "                llis.append((x,y))\n",
    "                print(\"parella trobada als index \" + str(llista.index(x)) +\" i \" + str(llista.index(y))\n",
    "                       + \",(\" + str(x) + \"+\" + str(y) + \")\")\n"
   ]
  },
  {
   "cell_type": "code",
   "execution_count": 36,
   "metadata": {},
   "outputs": [
    {
     "name": "stdout",
     "output_type": "stream",
     "text": [
      "parella trobada als index 0 i 4,(3+7)\n",
      "parella trobada als index 2 i 2,(5+5)\n",
      "parella trobada als index 3 i 5,(2+8)\n"
     ]
    }
   ],
   "source": [
    "parellesSuma([3,1,5,2,7,8],10)"
   ]
  },
  {
   "cell_type": "markdown",
   "metadata": {},
   "source": [
    "<h2 style=\"padding:0.5em 0;font:Garamond;font-size:1.2em;color:#FA0;background-color:#005\">\n",
    "Pregunta 1: Quina solució hauria de donar per als següents valors:\n",
    "</h2>"
   ]
  },
  {
   "cell_type": "markdown",
   "metadata": {},
   "source": [
    "- Llista:[5,5,1,3,5], Suma:10\n",
    "- Llista:[4,6,1,3,9,4], Suma:12\n",
    "- Llista3:[4,7], Suma3:[9]\n",
    "                \n",
    "        "
   ]
  },
  {
   "cell_type": "code",
   "execution_count": 37,
   "metadata": {},
   "outputs": [
    {
     "name": "stdout",
     "output_type": "stream",
     "text": [
      "parella trobada als index 0 i 0,(5+5)\n"
     ]
    }
   ],
   "source": [
    "parellesSuma([5,5,1,3,5],10)"
   ]
  },
  {
   "cell_type": "code",
   "execution_count": 38,
   "metadata": {},
   "outputs": [
    {
     "name": "stdout",
     "output_type": "stream",
     "text": [
      "parella trobada als index 1 i 1,(6+6)\n",
      "parella trobada als index 3 i 4,(3+9)\n"
     ]
    }
   ],
   "source": [
    "parellesSuma([4,6,1,3,9,4],12)"
   ]
  },
  {
   "cell_type": "code",
   "execution_count": 39,
   "metadata": {},
   "outputs": [],
   "source": [
    "parellesSuma([4,7],3)"
   ]
  },
  {
   "cell_type": "markdown",
   "metadata": {},
   "source": [
    "<h2 style=\"padding:0.5em 0;font:Garamond;font-size:1.2em;color:#FA0;background-color:#005\">\n",
    "Pregunta 2: Si la llista té 5 posicions, quantes comparacions es fan?\n",
    "</h2>"
   ]
  },
  {
   "cell_type": "markdown",
   "metadata": {
    "collapsed": true
   },
   "source": [
    "25 comparacions."
   ]
  },
  {
   "cell_type": "markdown",
   "metadata": {},
   "source": [
    "<p style=\"text-align:right;font-size:0.9em\">\n",
    "&copy;Jordi Vitrià i Mireia Ribera\n",
    "</p>"
   ]
  }
 ],
 "metadata": {
  "kernelspec": {
   "display_name": "Python 3",
   "language": "python",
   "name": "python3"
  },
  "language_info": {
   "codemirror_mode": {
    "name": "ipython",
    "version": 3
   },
   "file_extension": ".py",
   "mimetype": "text/x-python",
   "name": "python",
   "nbconvert_exporter": "python",
   "pygments_lexer": "ipython3",
   "version": "3.6.5"
  }
 },
 "nbformat": 4,
 "nbformat_minor": 2
}
