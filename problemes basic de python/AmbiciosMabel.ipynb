{
 "cells": [
  {
   "cell_type": "markdown",
   "metadata": {},
   "source": [
    "<p style=\"text-align:right;font-size:0.9em\">\n",
    "Grau d'Enginyeria Informàtica. Algorísmica\n",
    "</p>"
   ]
  },
  {
   "cell_type": "markdown",
   "metadata": {},
   "source": [
    "<h1 style=\"padding:0.5em 0;font:Garamond;font-size:1-5em;color:#F90;background-color:#005\">\n",
    "Problema: Ambiciós\n",
    "</h1>"
   ]
  },
  {
   "cell_type": "markdown",
   "metadata": {},
   "source": [
    "Determinar si un nombre és __ambiciós__: diem que un nombre és ambiciós si la suma dels seus factors (recursivament) és un nombre perfecte.\n",
    "\n",
    "Exemple:\n",
    "- 95 és un nombre ambiciós ja que els seus divisors són: 1, 5, 19 que sumen 25\n",
    "- I recursivament, els divisors de 25 són 1 i 5 que sumen 6 que és un nombre perfecte"
   ]
  },
  {
   "cell_type": "code",
   "execution_count": 39,
   "metadata": {},
   "outputs": [
    {
     "name": "stdout",
     "output_type": "stream",
     "text": [
      "True\n",
      "False\n",
      "True\n"
     ]
    }
   ],
   "source": [
    "def ambicios(num):\n",
    "    suma = 0\n",
    "    for n in range(1,num):\n",
    "        if(num%n==0):\n",
    "            suma += n\n",
    "            \n",
    "    if (suma == num):\n",
    "        print(True)\n",
    "    elif (suma==1):\n",
    "        print(False)\n",
    "    else:\n",
    "        return (ambicios(suma))\n",
    "        \n",
    "ambicios(25) # True\n",
    "ambicios(30) # False\n",
    "ambicios(95) # True"
   ]
  },
  {
   "cell_type": "code",
   "execution_count": 17,
   "metadata": {},
   "outputs": [
    {
     "data": {
      "text/plain": [
       "[3, 5, 4]"
      ]
     },
     "execution_count": 17,
     "metadata": {},
     "output_type": "execute_result"
    }
   ],
   "source": [
    "def word_lengths(list_of_words):\n",
    "    list_of_lengths = [ ]\n",
    "    \n",
    "    for item in list_of_words:\n",
    "        list_of_lengths.append(len(item))\n",
    "        \n",
    "    return list_of_lengths\n",
    "\n",
    "\n",
    "list_of_words = [\"red\", \"green\", \"blue\"]\n",
    "word_lengths(list_of_words)"
   ]
  },
  {
   "cell_type": "code",
   "execution_count": 14,
   "metadata": {},
   "outputs": [
    {
     "name": "stdout",
     "output_type": "stream",
     "text": [
      "[(0, 0, 0, 4), (0, 0, 4, 0), (0, 4, 0, 0), (2, 2, 2, 2), (4, 0, 0, 0)]\n"
     ]
    }
   ],
   "source": [
    "def enters(n):\n",
    "    llista = [(a,b,c,d) for a in range(0,n+1) for b in range(0,n+1) for c in range(0,n+1) for d in range(0,n+1) if n==a**2+b**2+c**2+d**2]\n",
    "    print(llista)\n",
    "enters(16)\n",
    "        \n",
    " #Pág. 75 dels apunts   \n",
    "        "
   ]
  },
  {
   "cell_type": "markdown",
   "metadata": {},
   "source": [
    "## Referències\n",
    "\n",
    "Els enunciats d'aquests problemes estan extrets de https://www.gaussianos.com/tipos-de-numeros/ i la selecció de problemes esta feta per Pere Gilabert, auxiliar docent del curs 2017-2018."
   ]
  },
  {
   "cell_type": "markdown",
   "metadata": {},
   "source": [
    "<p style=\"text-align:right;font-size:0.9em\">\n",
    "&copy;Jordi Vitrià i Mireia Ribera\n",
    "</p>"
   ]
  }
 ],
 "metadata": {
  "kernelspec": {
   "display_name": "Python 3",
   "language": "python",
   "name": "python3"
  },
  "language_info": {
   "codemirror_mode": {
    "name": "ipython",
    "version": 3
   },
   "file_extension": ".py",
   "mimetype": "text/x-python",
   "name": "python",
   "nbconvert_exporter": "python",
   "pygments_lexer": "ipython3",
   "version": "3.6.5"
  }
 },
 "nbformat": 4,
 "nbformat_minor": 2
}
