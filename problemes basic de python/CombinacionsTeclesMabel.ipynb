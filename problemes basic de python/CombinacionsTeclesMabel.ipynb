{
 "cells": [
  {
   "cell_type": "markdown",
   "metadata": {},
   "source": [
    "<p style=\"text-align:right;font-size:0.9em\">\n",
    "Grau d'Enginyeria Informàtica. Algorísmica\n",
    "</p>"
   ]
  },
  {
   "cell_type": "markdown",
   "metadata": {},
   "source": [
    "<h1 style=\"padding:0.5em 0;font:Garamond;font-size:1-5em;color:#F90;background-color:#005\">\n",
    "Problema: Combinacions de lletres amb unes tecles donades\n",
    "</h1>"
   ]
  },
  {
   "cell_type": "markdown",
   "metadata": {},
   "source": [
    "<p style=\"font-family:Arial;font-size:1em\">\n",
    "<img src=\"keypad.png\" width=\"250px\" alt=\"2 ABC, 3 DEF, 4 GHI, 5 JKL, 6 MNO, 7 PQRS, 8 TUV, 9 WXYZ\" style=\"float:left; margin:0 10px 0 0\" /> Donada una seqüència de nombres entre 2 i 9, mostrar totes les possibles paraules que es poden formar amb les lletres associades a aquests nombres en un teclat de mòbil antic, com el que està dibuixat aquí.\n",
    "</p>"
   ]
  },
  {
   "cell_type": "markdown",
   "metadata": {},
   "source": [
    "<div style=\"font-style:italic\">\n",
    "Per exemple:\n",
    "<ul>\n",
    "<li>Usades=[tecles[2],tecles[3],tecles[4]]</li>\n",
    "<li>Solució:\n",
    "   <ul>\n",
    "   <li>ADG, BDG, AEG, BEG, CEG, AFG, BFG, CFG, ADH, BDH, CDH, AEH, BEH, CEH, AFH, BFH, CFH, ADI, BDI, CDI, AEI, BEI, CEI, AFI, BFI, CFI</li>\n",
    "   </ul>\n",
    "</li>\n",
    "</ul>\n",
    "</div>"
   ]
  },
  {
   "cell_type": "code",
   "execution_count": 3,
   "metadata": {},
   "outputs": [
    {
     "data": {
      "text/plain": [
       "[('A', 'D', 'G'),\n",
       " ('A', 'D', 'H'),\n",
       " ('A', 'D', 'I'),\n",
       " ('A', 'E', 'G'),\n",
       " ('A', 'E', 'H'),\n",
       " ('A', 'E', 'I'),\n",
       " ('A', 'F', 'G'),\n",
       " ('A', 'F', 'H'),\n",
       " ('A', 'F', 'I'),\n",
       " ('B', 'D', 'G'),\n",
       " ('B', 'D', 'H'),\n",
       " ('B', 'D', 'I'),\n",
       " ('B', 'E', 'G'),\n",
       " ('B', 'E', 'H'),\n",
       " ('B', 'E', 'I'),\n",
       " ('B', 'F', 'G'),\n",
       " ('B', 'F', 'H'),\n",
       " ('B', 'F', 'I'),\n",
       " ('C', 'D', 'G'),\n",
       " ('C', 'D', 'H'),\n",
       " ('C', 'D', 'I'),\n",
       " ('C', 'E', 'G'),\n",
       " ('C', 'E', 'H'),\n",
       " ('C', 'E', 'I'),\n",
       " ('C', 'F', 'G'),\n",
       " ('C', 'F', 'H'),\n",
       " ('C', 'F', 'I')]"
      ]
     },
     "execution_count": 3,
     "metadata": {},
     "output_type": "execute_result"
    }
   ],
   "source": [
    "def teclas():\n",
    "    tecles = {2:\"ABC\", 3:\"DEF\", 4:\"GHI\", 5:\"JKL\", 6:\"MNO\", 7:\"PQRS\", 8:\"TUV\", 9:\"WXYZ\"}\n",
    "    return[(a,b,c) for a in tecles[2] for b in tecles[3] for c in tecles[4]]\n",
    "teclas()"
   ]
  },
  {
   "cell_type": "markdown",
   "metadata": {},
   "source": [
    "<h2 style=\"padding:0.5em 0;font:Garamond;font-size:1.2em;color:#FA0;background-color:#005\">\n",
    "Pregunta 1: Quantes combinacions es poden crear amb 3 tecles? Quines combinacions es poden crear amb [tecles[2],tecles[3]?\n",
    "</h2>"
   ]
  },
  {
   "cell_type": "markdown",
   "metadata": {},
   "source": [
    "27. 9."
   ]
  },
  {
   "cell_type": "code",
   "execution_count": 4,
   "metadata": {},
   "outputs": [
    {
     "name": "stdout",
     "output_type": "stream",
     "text": [
      "[('A', 'D'), ('A', 'E'), ('A', 'F'), ('B', 'D'), ('B', 'E'), ('B', 'F'), ('C', 'D'), ('C', 'E'), ('C', 'F')]\n"
     ]
    }
   ],
   "source": [
    "def teclass():\n",
    "    tecles = {2:\"ABC\", 3:\"DEF\", 4:\"GHI\", 5:\"JKL\", 6:\"MNO\", 7:\"PQRS\", 8:\"TUV\", 9:\"WXYZ\"}\n",
    "    x = [(i,j) for i in tecles[2] for j in tecles[3] ]\n",
    "    print(x)\n",
    "\n",
    "teclass()"
   ]
  },
  {
   "cell_type": "markdown",
   "metadata": {},
   "source": [
    "<h2 style=\"padding:0.5em 0;font:Garamond;font-size:1.2em;color:#FA0;background-color:#005\">\n",
    "Pregunta 2: Si N és el nombre de tecles d'entrada, quina és la complexitat d'aquest algorisme?\n",
    "</h2>"
   ]
  },
  {
   "cell_type": "markdown",
   "metadata": {},
   "source": [
    "O(N)"
   ]
  },
  {
   "cell_type": "markdown",
   "metadata": {},
   "source": [
    "<h2 style=\"padding:0.5em 0;font:Garamond;font-size:1.2em;color:#FA0;background-color:#005\">\n",
    "Pregunta 3: Escriviu una versió de la solució en la que llegiu les lletres associades a cada tecla des del fitxer \"tecles.txt\" que us facilitem.\n",
    "</h2>"
   ]
  },
  {
   "cell_type": "code",
   "execution_count": 10,
   "metadata": {},
   "outputs": [],
   "source": [
    "fitxer = open(\"tecles.txt\",\"w\")\n",
    "tecles = {2:\"ABC\", 3:\"DEF\", 4:\"GHI\", 5:\"JKL\", 6:\"MNO\", 7:\"PQRS\", 8:\"TUV\", 9:\"WXYZ\"}\n",
    "fitxer.write(tecles[2])\n",
    "fitxer.write(tecles[3])\n",
    "fitxer.write(tecles[4])\n",
    "fitxer.write(tecles[5])\n",
    "fitxer.write(tecles[6])\n",
    "fitxer.write(tecles[7])\n",
    "fitxer.write(tecles[8])\n",
    "fitxer.write(tecles[9])\n",
    "fitxer.close()"
   ]
  },
  {
   "cell_type": "code",
   "execution_count": 19,
   "metadata": {},
   "outputs": [
    {
     "ename": "TypeError",
     "evalue": "'_io.TextIOWrapper' object is not subscriptable",
     "output_type": "error",
     "traceback": [
      "\u001b[1;31m---------------------------------------------------------------------------\u001b[0m",
      "\u001b[1;31mTypeError\u001b[0m                                 Traceback (most recent call last)",
      "\u001b[1;32m<ipython-input-19-6fb4da3b6db0>\u001b[0m in \u001b[0;36m<module>\u001b[1;34m()\u001b[0m\n\u001b[0;32m      7\u001b[0m \u001b[1;33m\u001b[0m\u001b[0m\n\u001b[0;32m      8\u001b[0m \u001b[1;33m\u001b[0m\u001b[0m\n\u001b[1;32m----> 9\u001b[1;33m \u001b[0mteclesFitxer\u001b[0m\u001b[1;33m(\u001b[0m\u001b[1;33m)\u001b[0m\u001b[1;33m\u001b[0m\u001b[0m\n\u001b[0m",
      "\u001b[1;32m<ipython-input-19-6fb4da3b6db0>\u001b[0m in \u001b[0;36mteclesFitxer\u001b[1;34m()\u001b[0m\n\u001b[0;32m      2\u001b[0m     \u001b[1;32mwith\u001b[0m \u001b[0mopen\u001b[0m\u001b[1;33m(\u001b[0m\u001b[1;34m\"tecles.txt\"\u001b[0m\u001b[1;33m)\u001b[0m \u001b[1;32mas\u001b[0m \u001b[0mfile\u001b[0m\u001b[1;33m:\u001b[0m\u001b[1;33m\u001b[0m\u001b[0m\n\u001b[0;32m      3\u001b[0m         \u001b[0mdata\u001b[0m \u001b[1;33m=\u001b[0m \u001b[0mfile\u001b[0m\u001b[1;33m.\u001b[0m\u001b[0mread\u001b[0m\u001b[1;33m(\u001b[0m\u001b[1;33m)\u001b[0m\u001b[1;33m\u001b[0m\u001b[0m\n\u001b[1;32m----> 4\u001b[1;33m         \u001b[1;32mreturn\u001b[0m\u001b[1;33m[\u001b[0m\u001b[1;33m(\u001b[0m\u001b[0ma\u001b[0m\u001b[1;33m,\u001b[0m\u001b[0mb\u001b[0m\u001b[1;33m,\u001b[0m\u001b[0mc\u001b[0m\u001b[1;33m)\u001b[0m \u001b[1;32mfor\u001b[0m \u001b[0ma\u001b[0m \u001b[1;32min\u001b[0m \u001b[0mrange\u001b[0m\u001b[1;33m(\u001b[0m\u001b[0mfile\u001b[0m\u001b[1;33m[\u001b[0m\u001b[1;36m0\u001b[0m\u001b[1;33m:\u001b[0m\u001b[1;36m3\u001b[0m\u001b[1;33m]\u001b[0m\u001b[1;33m)\u001b[0m \u001b[1;32mfor\u001b[0m \u001b[0mb\u001b[0m \u001b[1;32min\u001b[0m \u001b[0mrange\u001b[0m\u001b[1;33m(\u001b[0m\u001b[0mfile\u001b[0m\u001b[1;33m[\u001b[0m\u001b[1;36m3\u001b[0m\u001b[1;33m:\u001b[0m\u001b[1;36m6\u001b[0m\u001b[1;33m]\u001b[0m\u001b[1;33m)\u001b[0m \u001b[1;32mfor\u001b[0m \u001b[0mc\u001b[0m \u001b[1;32min\u001b[0m \u001b[0mrange\u001b[0m\u001b[1;33m(\u001b[0m\u001b[0mfile\u001b[0m\u001b[1;33m[\u001b[0m\u001b[1;36m6\u001b[0m\u001b[1;33m:\u001b[0m\u001b[1;36m9\u001b[0m\u001b[1;33m]\u001b[0m\u001b[1;33m)\u001b[0m\u001b[1;33m]\u001b[0m\u001b[1;33m\u001b[0m\u001b[0m\n\u001b[0m\u001b[0;32m      5\u001b[0m \u001b[1;33m\u001b[0m\u001b[0m\n\u001b[0;32m      6\u001b[0m \u001b[1;33m\u001b[0m\u001b[0m\n",
      "\u001b[1;31mTypeError\u001b[0m: '_io.TextIOWrapper' object is not subscriptable"
     ]
    }
   ],
   "source": [
    "def teclesFitxer():\n",
    "    with open(\"tecles.txt\") as file:\n",
    "        data = file.read()\n",
    "        return[(a,b,c) for a in range(file[0:3]) for b in range(file[3:6]) for c in range(file[6:9])] \n",
    "\n",
    "  \n",
    "\n",
    "   \n",
    "teclesFitxer()"
   ]
  },
  {
   "cell_type": "markdown",
   "metadata": {},
   "source": [
    "<p style=\"text-align:right;font-size:0.9em\">\n",
    "&copy;Jordi Vitrià i Mireia Ribera\n",
    "</p>"
   ]
  }
 ],
 "metadata": {
  "kernelspec": {
   "display_name": "Python 3",
   "language": "python",
   "name": "python3"
  },
  "language_info": {
   "codemirror_mode": {
    "name": "ipython",
    "version": 3
   },
   "file_extension": ".py",
   "mimetype": "text/x-python",
   "name": "python",
   "nbconvert_exporter": "python",
   "pygments_lexer": "ipython3",
   "version": "3.6.5"
  }
 },
 "nbformat": 4,
 "nbformat_minor": 2
}
