{
 "cells": [
  {
   "cell_type": "markdown",
   "metadata": {},
   "source": [
    "<p style=\"text-align:right;font-size:0.9em\">\n",
    "Grau d'Enginyeria Informàtica. Algorísmica\n",
    "</p>"
   ]
  },
  {
   "cell_type": "markdown",
   "metadata": {},
   "source": [
    "<h1 style=\"padding:0.5em 0;font:Garamond;font-size:1-5em;color:#F90;background-color:#005\">\n",
    "Problema: LLista de productes sense divisió\n",
    "</h1>"
   ]
  },
  {
   "cell_type": "markdown",
   "metadata": {},
   "source": [
    "Reemplaçar cada element d'una llista pel producte de la resta d'elements sense usar mai la divisió\n",
    "\n",
    "Per exemple:\n",
    "\n",
    "+ llista = [1, 2, 3, 4, 5] ha de retornar [120, 60, 40, 30, 24]\n",
    "\n",
    "+ llista = [5, 3, 2, 4, 2, 6, 8] ha de retornar [1152, 1920, 1440, 2880, 960, 720]\n",
    "\n",
    "Trobeu una solució d'ordre O(n) i demostreu que té aquest ordre."
   ]
  },
  {
   "cell_type": "code",
   "execution_count": 21,
   "metadata": {},
   "outputs": [],
   "source": [
    "def producte(nums):\n",
    "    llista = []\n",
    "    mult = 1\n",
    "    length = len(nums)\n",
    "    for i in nums:\n",
    "        nums.remove(i)\n",
    "        a = [x for x in nums]\n",
    "        print(a)\n",
    "        for j in a:\n",
    "            mult *= int(j)\n",
    "        llista.append(mult)\n",
    "        mult = 1\n",
    "        nums.append(i)\n",
    "        \n",
    "       \n",
    "    print(llista)       "
   ]
  },
  {
   "cell_type": "code",
   "execution_count": 22,
   "metadata": {},
   "outputs": [
    {
     "name": "stdout",
     "output_type": "stream",
     "text": [
      "[3, 2, 4, 6, 8]\n",
      "[3, 4, 6, 8, 5]\n",
      "[3, 4, 8, 5, 2]\n",
      "[3, 4, 8, 2, 6]\n",
      "[3, 4, 8, 2, 5]\n",
      "[3, 4, 8, 2, 5]\n",
      "[1152, 2880, 960, 1152, 960, 960]\n"
     ]
    }
   ],
   "source": [
    "nums=[5,3,2,4,6,8]\n",
    "producte(nums)\n",
    "\n",
    "# Hauria de retornar [1152, 1920, 2880, 1440, 960, 720]"
   ]
  },
  {
   "cell_type": "markdown",
   "metadata": {},
   "source": [
    "<p style=\"text-align:right;font-size:0.9em\">\n",
    "&copy;Jordi Vitrià i Mireia Ribera\n",
    "</p>"
   ]
  }
 ],
 "metadata": {
  "kernelspec": {
   "display_name": "Python 3",
   "language": "python",
   "name": "python3"
  },
  "language_info": {
   "codemirror_mode": {
    "name": "ipython",
    "version": 3
   },
   "file_extension": ".py",
   "mimetype": "text/x-python",
   "name": "python",
   "nbconvert_exporter": "python",
   "pygments_lexer": "ipython3",
   "version": "3.6.5"
  }
 },
 "nbformat": 4,
 "nbformat_minor": 2
}
