{
 "cells": [
  {
   "cell_type": "markdown",
   "metadata": {},
   "source": [
    "<p style=\"text-align:right;font-size:0.9em\">\n",
    "Grau d'Enginyeria Informàtica. Algorísmica. \n",
    "</p>"
   ]
  },
  {
   "cell_type": "markdown",
   "metadata": {},
   "source": [
    "<h1 style=\"padding:0.5em 0;font:Garamond;font-size:1-5em;color:#F90;background-color:#005\">\n",
    "Problema: Prou cerveses\n",
    "</h1>"
   ]
  },
  {
   "cell_type": "markdown",
   "metadata": {},
   "source": [
    "Quan els estudiants monten una festa els agrada tenir cerveses. Per a què una festa tingui èxit cal que hi hagi entre 50 i 100 cerveses, excepte en el cap de setmana en el que no hi ha un límit superior en el nombre de cerveses.\n",
    "\n",
    "Escriu una funció '''prouCerveses''' en la que donat un nombre de cerveses i un booleà indicant si és cap de setmana o no, retorni si la festa serà un èxit.\n",
    "\n",
    "Proposa uns valors donats a la funció prouCerveses que provoquin un èxit de festa entre setmana i un èxit de festa el cap de setmana."
   ]
  },
  {
   "cell_type": "code",
   "execution_count": 5,
   "metadata": {},
   "outputs": [
    {
     "name": "stdout",
     "output_type": "stream",
     "text": [
      "¿Cuantas cervezas tenemos hoy? 20\n",
      "No se si serán suficientes, porque es fin de semana, ¿no? (Responde True o False)True\n"
     ]
    },
    {
     "data": {
      "text/plain": [
       "'Mejor vamos a comprar más cervezas...'"
      ]
     },
     "execution_count": 5,
     "metadata": {},
     "output_type": "execute_result"
    }
   ],
   "source": [
    "def prouCerveses():\n",
    "    numCerveses = int(input(\"¿Cuantas cervezas tenemos hoy? \"))\n",
    "    esCapDeSetmana = input(\"No se si serán suficientes, porque es fin de semana, ¿no? (Responde True o False)\")\n",
    "    if (esCapDeSetmana==\"True\"):\n",
    "        if (numCerveses>50):\n",
    "            return (\"Éxito de fiesta asegurado!!\")\n",
    "        else:\n",
    "            return(\"Mejor vamos a comprar más cervezas...\")\n",
    "        \n",
    "    elif(esCapDeSetmana==\"False\"):\n",
    "        if (numCerveses>50)&(numCerveses<100):\n",
    "            return(\"Éxito de fiesta asegurado!!\")\n",
    "        else:\n",
    "            return(\"Mejor vamos comprar más cervezas...\")\n",
    "prouCerveses()"
   ]
  },
  {
   "cell_type": "markdown",
   "metadata": {},
   "source": [
    "<div style=\"font-style:italic\">\n",
    "Per exemple:\n",
    "<ul>\n",
    "<li>prouCerveses(75,False) : Èxit de festa </li>\n",
    "<li>prouCerveses(125,False) : Fracàs de festa</li>\n",
    "<li>prouCerveses(125,True) : Èxit de festa</li>\n",
    "</ul>\n",
    "</div>"
   ]
  },
  {
   "cell_type": "markdown",
   "metadata": {},
   "source": [
    "<p style=\"text-align:right;font-size:0.9em\">\n",
    "&copy;Jordi Vitrià i Mireia Ribera\n",
    "</p>"
   ]
  }
 ],
 "metadata": {
  "kernelspec": {
   "display_name": "Python 3",
   "language": "python",
   "name": "python3"
  },
  "language_info": {
   "codemirror_mode": {
    "name": "ipython",
    "version": 3
   },
   "file_extension": ".py",
   "mimetype": "text/x-python",
   "name": "python",
   "nbconvert_exporter": "python",
   "pygments_lexer": "ipython3",
   "version": "3.6.5"
  }
 },
 "nbformat": 4,
 "nbformat_minor": 2
}
