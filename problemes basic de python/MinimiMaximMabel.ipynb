{
 "cells": [
  {
   "cell_type": "markdown",
   "metadata": {},
   "source": [
    "<p style=\"text-align:right;font-size:0.9em\">\n",
    "Grau d'Enginyeria Informàtica. Algorísmica\n",
    "</p>"
   ]
  },
  {
   "cell_type": "markdown",
   "metadata": {},
   "source": [
    "<h1 style=\"padding:0.5em 0;font:Garamond;font-size:1-5em;color:#F90;background-color:#005\">\n",
    "Problema: Mínim i màxim\n",
    "</h1>"
   ]
  },
  {
   "cell_type": "markdown",
   "metadata": {},
   "source": [
    "<p style=\"font-family:Arial;font-size:1em\">\n",
    "Donada una llista d’enters, trobar el valor mínim i el valor màxim.\n",
    "</p>"
   ]
  },
  {
   "cell_type": "markdown",
   "metadata": {},
   "source": [
    "<div style=\"font-style:italic\">\n",
    "Per exemple:\n",
    "<ul>\n",
    "<li>Llista=[3,1,5,2,7,8]</li>\n",
    "<li>Solució:\n",
    "   <ul>\n",
    "   <li>El valor mínim és 1, el valor màxim és 8</li>\n",
    "   </ul>\n",
    "</li>\n",
    "</ul>\n",
    "</div>"
   ]
  },
  {
   "cell_type": "code",
   "execution_count": 5,
   "metadata": {},
   "outputs": [
    {
     "name": "stdout",
     "output_type": "stream",
     "text": [
      "El minimo es: 1\n",
      "El maximo es: 8\n"
     ]
    }
   ],
   "source": [
    "def MaxMinOptimizada():\n",
    "    lista = [3,1,5,2,7,8]\n",
    "    lista.sort()\n",
    "    print(\"El minimo es:\",lista[0])\n",
    "    print(\"El maximo es:\",lista[-1])\n",
    "MaxMinOptimizada()\n",
    "\n",
    "\n"
   ]
  },
  {
   "cell_type": "code",
   "execution_count": 5,
   "metadata": {},
   "outputs": [
    {
     "name": "stdout",
     "output_type": "stream",
     "text": [
      "8 1\n"
     ]
    }
   ],
   "source": [
    "def maxiiim(lista):\n",
    "    print(max(lista), min(lista))\n",
    "\n",
    "lista = [3,1,5,2,7,8]\n",
    "maxiiim(lista)"
   ]
  },
  {
   "cell_type": "code",
   "execution_count": 18,
   "metadata": {},
   "outputs": [
    {
     "name": "stdout",
     "output_type": "stream",
     "text": [
      "El maximo es: 8 y el minimo es 4\n"
     ]
    }
   ],
   "source": [
    "def MaximoForçaBruta():\n",
    "    lista = [7,8,4]\n",
    "    if lista[0]>lista[1]:\n",
    "        if lista[0]>lista[2]:\n",
    "            print(\"El maximo es:\",lista[0],\"y el minimo es\",lista[1])\n",
    "        else:\n",
    "            print(\"El maximo es:\",lista[2],\"y el minimo es\",lista[1])\n",
    "    else:\n",
    "        if lista[1]>lista[2]:\n",
    "            print(\"El maximo es:\",lista[1],\"y el minimo es\",lista[2])\n",
    "        else:\n",
    "            print(\"El maximo es:\",lista[2],\"y el minimo es\",lista[0])\n",
    "    \n",
    " \n",
    " \n",
    "MaximoForçaBruta()"
   ]
  },
  {
   "cell_type": "markdown",
   "metadata": {},
   "source": [
    "<h2 style=\"padding:0.5em 0;font:Garamond;font-size:1.2em;color:#FA0;background-color:#005\">\n",
    "Pregunta 1: Quin ordre de complexitat té la solució de força bruta?\n",
    "</h2>"
   ]
  },
  {
   "cell_type": "markdown",
   "metadata": {
    "collapsed": true
   },
   "source": [
    "O(n2)"
   ]
  },
  {
   "cell_type": "markdown",
   "metadata": {},
   "source": [
    "<h2 style=\"padding:0.5em 0;font:Garamond;font-size:1.2em;color:#FA0;background-color:#005\">\n",
    "Pregunta 2: Quin ordre de complexitat té la solució optimitzada? Què s'hi guanya?\n",
    "</h2>"
   ]
  },
  {
   "cell_type": "markdown",
   "metadata": {
    "collapsed": true
   },
   "source": [
    "O(n). Es más eficiente."
   ]
  },
  {
   "cell_type": "markdown",
   "metadata": {},
   "source": [
    "<p style=\"text-align:right;font-size:0.9em\">\n",
    "&copy;Jordi Vitrià i Mireia Ribera\n",
    "</p>"
   ]
  }
 ],
 "metadata": {
  "kernelspec": {
   "display_name": "Python 3",
   "language": "python",
   "name": "python3"
  },
  "language_info": {
   "codemirror_mode": {
    "name": "ipython",
    "version": 3
   },
   "file_extension": ".py",
   "mimetype": "text/x-python",
   "name": "python",
   "nbconvert_exporter": "python",
   "pygments_lexer": "ipython3",
   "version": "3.6.5"
  }
 },
 "nbformat": 4,
 "nbformat_minor": 2
}
