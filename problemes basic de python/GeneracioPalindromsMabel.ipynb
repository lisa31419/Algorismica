{
 "cells": [
  {
   "cell_type": "markdown",
   "metadata": {},
   "source": [
    "<p style=\"text-align:right;font-size:0.9em\">\n",
    "Grau d'Enginyeria Informàtica. Algorísmica\n",
    "</p>"
   ]
  },
  {
   "cell_type": "markdown",
   "metadata": {},
   "source": [
    "<h1 style=\"padding:0.5em 0;font:Garamond;font-size:1-5em;color:#F90;background-color:#005\">\n",
    "Problema: Generació de palíndroms\n",
    "</h1>"
   ]
  },
  {
   "cell_type": "markdown",
   "metadata": {},
   "source": [
    "<p style=\"font-family:Arial;font-size:1em\">\n",
    "Un palíndrom és una paraula que es llegeix al dret que al revés. Per ex. sis, tot, anna, radar...\n",
    "Donada una cadena de caràcters, trobar tots els palíndroms generables a partir de les seves lletres. En aquest exercici pots fer servir la llibreria de Python <a href=\"https://docs.python.org/2/library/itertools.html\">itertools</a> per crear les possibles combinacions.\n",
    "</p>"
   ]
  },
  {
   "cell_type": "markdown",
   "metadata": {},
   "source": [
    "<div style=\"font-style:italic\">\n",
    "Per exemple:\n",
    "<ul>\n",
    "<li>cadena=\"baaeb</li>\n",
    "<li>Solució:\n",
    "   <ul>\n",
    "   <li>baeab,abeba </li>\n",
    "   </ul>\n",
    "</li>\n",
    "<li>cadena=\"mmmu</li>\n",
    "<li>Solució:\n",
    "   <ul>\n",
    "   <li>no es poden crear palíndroms amb aquestes lletres </li>\n",
    "   </ul>\n",
    "</li>\n",
    "</ul>\n",
    "</div>"
   ]
  },
  {
   "cell_type": "code",
   "execution_count": 5,
   "metadata": {},
   "outputs": [
    {
     "name": "stdout",
     "output_type": "stream",
     "text": [
      "a a a a a\n"
     ]
    }
   ],
   "source": [
    "def esCapicua(paraula):\n",
    "    n = len(paraula)\n",
    "    m = (len(paraula)//2)\n",
    "    c = paraula[m+1:n]\n",
    "    if(c[::-1]==paraula[:m]):\n",
    "        return True\n",
    "    else:\n",
    "        return False\n",
    "\n",
    "def palindroms(s):\n",
    "    import itertools\n",
    "    list2 = []\n",
    "    a = len(s)\n",
    "    list1 = list(itertools.permutations(s,a))\n",
    "    for x in list1:          \n",
    "        x = \" \".join(x)\n",
    "        if esCapicua(x)&(not(x in list2)):\n",
    "                 list2.append(x)\n",
    "    if len(list2)==0:\n",
    "        return(\"no es poden crear palindroms amb aquestes lletres\")\n",
    "    for x in list2:\n",
    "        print(x)\n",
    "\n",
    "palindroms('aaaaa')"
   ]
  },
  {
   "cell_type": "markdown",
   "metadata": {},
   "source": [
    "<h2 style=\"padding:0.5em 0;font:Garamond;font-size:1.2em;color:#FA0;background-color:#005\">\n",
    "Pregunta 1: Quina solució hauria de donar per als següents valors:\n",
    "</h2>"
   ]
  },
  {
   "cell_type": "markdown",
   "metadata": {},
   "source": [
    "- generarPalindroms(\"ab\"): No se puede generar ningún palídromo de \"ab\".\n",
    "- generarPalindroms(\"aabtb\"): \"abtba\", \"batab\"      "
   ]
  },
  {
   "cell_type": "markdown",
   "metadata": {},
   "source": [
    "<h2 style=\"padding:0.5em 0;font:Garamond;font-size:1.2em;color:#FA0;background-color:#005\">\n",
    "Pregunta 2: Què passa si una lletra apareix 5 cops? proposa possibles cadenes d'entrada i explica els resultats\n",
    "</h2>"
   ]
  },
  {
   "cell_type": "markdown",
   "metadata": {},
   "source": [
    "Si introducimos una cadena de 5 letras y las 5 son la misma, por ejemplo 'aaaaa', la salida será un único palídromo 'aaaaa'.\n",
    "Esto se debe a que no hay ninguna variación entre los substring 'a' que formar el string, por tanto aunque se reordenen de \n",
    "diferentes formas, el resultao será siempre el mismo: 'aaaaa'."
   ]
  },
  {
   "cell_type": "markdown",
   "metadata": {},
   "source": [
    "<p style=\"text-align:right;font-size:0.9em\">\n",
    "&copy;Jordi Vitrià i Mireia Ribera\n",
    "</p>"
   ]
  }
 ],
 "metadata": {
  "kernelspec": {
   "display_name": "Python 3",
   "language": "python",
   "name": "python3"
  },
  "language_info": {
   "codemirror_mode": {
    "name": "ipython",
    "version": 3
   },
   "file_extension": ".py",
   "mimetype": "text/x-python",
   "name": "python",
   "nbconvert_exporter": "python",
   "pygments_lexer": "ipython3",
   "version": "3.6.5"
  }
 },
 "nbformat": 4,
 "nbformat_minor": 2
}
