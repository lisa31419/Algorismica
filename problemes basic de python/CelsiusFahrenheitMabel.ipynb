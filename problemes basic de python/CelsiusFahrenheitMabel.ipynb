{
 "cells": [
  {
   "cell_type": "markdown",
   "metadata": {},
   "source": [
    "<p style=\"text-align:right;font-size:0.9em\">\n",
    "Grau d'Enginyeria Informàtica. Algorísmica\n",
    "</p>"
   ]
  },
  {
   "cell_type": "markdown",
   "metadata": {},
   "source": [
    "<h1 style=\"padding:0.5em 0;font:Garamond;font-size:1-5em;color:#F90;background-color:#005\">\n",
    "Problema: Conversió de Celsius a Fahrenheit\n",
    "</h1>"
   ]
  },
  {
   "cell_type": "markdown",
   "metadata": {},
   "source": [
    "La funció convert converteix els graus Celsius en graus Fahrenheit:"
   ]
  },
  {
   "cell_type": "code",
   "execution_count": 3,
   "metadata": {},
   "outputs": [
    {
     "name": "stdout",
     "output_type": "stream",
     "text": [
      "What is the Celsius temperature? 100\n",
      "The temperature is 212.0 degrees Fahrenheit.\n"
     ]
    }
   ],
   "source": [
    "def convert():\n",
    "    celsius = int(input(\"What is the Celsius temperature? \"))\n",
    "    fahrenheit = 9.0 / 5.0 * celsius + 32\n",
    "    print (\"The temperature is\", fahrenheit, \"degrees Fahrenheit.\")\n",
    "    \n",
    "convert()"
   ]
  },
  {
   "cell_type": "markdown",
   "metadata": {},
   "source": [
    "<h2 style=\"padding:0.5em 0;font:Garamond;font-size:1.2em;color:#FA0;background-color:#005\">\n",
    "Pregunta 1</h2>\n",
    "\n",
    "Modifica la funció i escriu una funció convert2 de manera que calculi i imprimeixi una llista de temperatures Celsius i dels seus equivalents Fahrenheit cada 5 graus de 0C a 50C.\n"
   ]
  },
  {
   "cell_type": "code",
   "execution_count": 10,
   "metadata": {},
   "outputs": [
    {
     "name": "stdout",
     "output_type": "stream",
     "text": [
      "[0, 32.0]    [1, 33.8]    [2, 35.6]    [3, 37.4]    [4, 39.2]    [5, 41.0]    [6, 42.8]    [7, 44.6]    [8, 46.4]    [9, 48.2]    [10, 50.0]    [11, 51.8]    [12, 53.6]    [13, 55.400000000000006]    [14, 57.2]    [15, 59.0]    [16, 60.8]    [17, 62.6]    [18, 64.4]    [19, 66.2]    [20, 68.0]    [21, 69.80000000000001]    [22, 71.6]    [23, 73.4]    [24, 75.2]    [25, 77.0]    [26, 78.80000000000001]    [27, 80.6]    [28, 82.4]    [29, 84.2]    [30, 86.0]    [31, 87.80000000000001]    [32, 89.6]    [33, 91.4]    [34, 93.2]    [35, 95.0]    [36, 96.8]    [37, 98.60000000000001]    [38, 100.4]    [39, 102.2]    [40, 104.0]    [41, 105.8]    [42, 107.60000000000001]    [43, 109.4]    [44, 111.2]    [45, 113.0]    [46, 114.8]    [47, 116.60000000000001]    [48, 118.4]    [49, 120.2]    [50, 122.0]    "
     ]
    }
   ],
   "source": [
    "def convert2():\n",
    "    celsius = [j for j in range(0,51)]\n",
    "    fahrenheit = [9.0 / 5.0 * i + 32 for i in range(0,51)]\n",
    "    for x,y in zip(celsius,fahrenheit):\n",
    "        print([x,y],end = \"    \")       \n",
    "convert2()"
   ]
  },
  {
   "cell_type": "markdown",
   "metadata": {},
   "source": [
    "<p style=\"text-align:right;font-size:0.9em\">\n",
    "&copy;Jordi Vitrià i Mireia Ribera\n",
    "</p>"
   ]
  }
 ],
 "metadata": {
  "kernelspec": {
   "display_name": "Python 3",
   "language": "python",
   "name": "python3"
  },
  "language_info": {
   "codemirror_mode": {
    "name": "ipython",
    "version": 3
   },
   "file_extension": ".py",
   "mimetype": "text/x-python",
   "name": "python",
   "nbconvert_exporter": "python",
   "pygments_lexer": "ipython3",
   "version": "3.6.5"
  }
 },
 "nbformat": 4,
 "nbformat_minor": 2
}
