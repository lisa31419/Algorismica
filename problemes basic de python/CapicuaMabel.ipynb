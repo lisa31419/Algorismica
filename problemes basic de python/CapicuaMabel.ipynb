{
 "cells": [
  {
   "cell_type": "markdown",
   "metadata": {},
   "source": [
    "<p style=\"text-align:right;font-size:0.9em\">\n",
    "Grau d'Enginyeria Informàtica. Algorísmica\n",
    "</p>"
   ]
  },
  {
   "cell_type": "markdown",
   "metadata": {},
   "source": [
    "<h1 style=\"padding:0.5em 0;font:Garamond;font-size:1-5em;color:#F90;background-color:#005\">\n",
    "Problema: Capicua\n",
    "</h1>"
   ]
  },
  {
   "cell_type": "markdown",
   "metadata": {},
   "source": [
    "<p style=\"font-family:Arial;font-size:1em\">\n",
    "Donada una paraula determinar si és capicua. Una paraula, frase o grup de paraules són capícua o formen un palíndrom si les lletres es repeteixen en el mateix ordre quan són llegides en la direcció inversa. Exemples: \"Anna\", \"Llull\".\n",
    "</p>"
   ]
  },
  {
   "cell_type": "markdown",
   "metadata": {},
   "source": [
    "<div style=\"font-style:italic\">\n",
    "Per exemple:\n",
    "<ul>\n",
    "<li>Cadena=”ANNA”</li>\n",
    "<li>Solució:\n",
    "   <ul>\n",
    "   <li>ANNA és capicua</li>\n",
    "   </ul>\n",
    "</li>\n",
    "<li>Cadena=”JOAN”</li>\n",
    "<li>Solució:\n",
    "   <ul>\n",
    "   <li>JOAN no és capicua</li>\n",
    "   </ul>\n",
    "</li>\n",
    "</ul>\n",
    "</div>\n",
    "\n",
    "*Indicació: Recordeu que fent servir \"slicing\" podeu invertir un string"
   ]
  },
  {
   "cell_type": "code",
   "execution_count": 3,
   "metadata": {},
   "outputs": [],
   "source": [
    "def capi(p):\n",
    "    if p==p[::-1]:\n",
    "        return True\n",
    "    else:\n",
    "        return False"
   ]
  },
  {
   "cell_type": "code",
   "execution_count": 5,
   "metadata": {},
   "outputs": [
    {
     "data": {
      "text/plain": [
       "True"
      ]
     },
     "execution_count": 5,
     "metadata": {},
     "output_type": "execute_result"
    }
   ],
   "source": [
    "capi(\"llull\")"
   ]
  },
  {
   "cell_type": "code",
   "execution_count": 6,
   "metadata": {},
   "outputs": [
    {
     "data": {
      "text/plain": [
       "True"
      ]
     },
     "execution_count": 6,
     "metadata": {},
     "output_type": "execute_result"
    }
   ],
   "source": [
    "def esCapicua(paraula):\n",
    "    n = len(paraula)\n",
    "    m = (len(paraula)//2)\n",
    "    c = paraula[m+1:n]\n",
    "    if(c[::-1]==paraula[:m]):\n",
    "        return True\n",
    "    else:\n",
    "        return False\n",
    "\n",
    "\n",
    "esCapicua(\"llull\")"
   ]
  },
  {
   "cell_type": "code",
   "execution_count": 5,
   "metadata": {},
   "outputs": [
    {
     "data": {
      "text/plain": [
       "False"
      ]
     },
     "execution_count": 5,
     "metadata": {},
     "output_type": "execute_result"
    }
   ],
   "source": [
    "esCapicua(\"llullu\")"
   ]
  },
  {
   "cell_type": "markdown",
   "metadata": {},
   "source": [
    "### Versió 2 del problema. \n",
    "\n",
    "Donada una paraula determinar si aplicant-li rotacions de lletres és capicua.\n",
    "\n",
    "Per resoldre aquest problema podem crear les paraules rotades progressivament, i validar si són capicua amb l'algorisme anterior."
   ]
  },
  {
   "cell_type": "markdown",
   "metadata": {},
   "source": [
    "<div style=\"font-style:italic\">\n",
    "Per exemple:\n",
    "<ul>\n",
    "<li>Cadena=”BAABCC”</li>\n",
    "<li>Solució:\n",
    "   <ul>\n",
    "   <li>BAABCC és una paraula capicua rotada ja que ABCCBA és capicua.</li>\n",
    "   </ul>\n",
    "</li>\n",
    "</ul>\n",
    "</div>"
   ]
  },
  {
   "cell_type": "code",
   "execution_count": 12,
   "metadata": {},
   "outputs": [
    {
     "name": "stdout",
     "output_type": "stream",
     "text": [
      "B A C C A B\n",
      "B C A A C B\n",
      "A B C C B A\n",
      "A C B B C A\n",
      "C B A A B C\n",
      "C A B B A C\n"
     ]
    }
   ],
   "source": [
    "def esCapicua(paraula):\n",
    "    n = len(paraula)\n",
    "    m = (len(paraula)//2)\n",
    "    c = paraula[m+1:n]\n",
    "    if(c[::-1]==paraula[:m]):\n",
    "        return True\n",
    "    else:\n",
    "        return False\n",
    "\n",
    "def combinacio(s):\n",
    "    import itertools\n",
    "    list2 = []\n",
    "    a = len(s)\n",
    "    list1 = list(itertools.permutations(s,a))\n",
    "    for x in list1:          \n",
    "        x = \" \".join(x)\n",
    "        if esCapicua(x)&(not(x in list2)):\n",
    "                 list2.append(x)\n",
    "    if len(list2)==0:\n",
    "        return(\"no es poden crear palindroms amb aquestes lletres\")\n",
    "    for x in list2:\n",
    "        print(x)\n",
    "combinacio('BAABCC')"
   ]
  },
  {
   "cell_type": "markdown",
   "metadata": {},
   "source": [
    "<h2 style=\"padding:0.5em 0;font:Garamond;font-size:1.2em;color:#FA0;background-color:#005\">\n",
    "Pregunta 1: Has fet servir for o while? Raona per què has usat un i no l’altre\n",
    "</h2>"
   ]
  },
  {
   "cell_type": "code",
   "execution_count": 2,
   "metadata": {
    "collapsed": true
   },
   "outputs": [],
   "source": [
    "# Inserir aquí les respostes"
   ]
  },
  {
   "cell_type": "markdown",
   "metadata": {},
   "source": [
    "<p style=\"text-align:right;font-size:0.9em\">\n",
    "&copy;Jordi Vitrià i Mireia Ribera\n",
    "</p>"
   ]
  }
 ],
 "metadata": {
  "kernelspec": {
   "display_name": "Python 3",
   "language": "python",
   "name": "python3"
  },
  "language_info": {
   "codemirror_mode": {
    "name": "ipython",
    "version": 3
   },
   "file_extension": ".py",
   "mimetype": "text/x-python",
   "name": "python",
   "nbconvert_exporter": "python",
   "pygments_lexer": "ipython3",
   "version": "3.6.5"
  }
 },
 "nbformat": 4,
 "nbformat_minor": 2
}
