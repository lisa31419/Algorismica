{
 "cells": [
  {
   "cell_type": "markdown",
   "metadata": {},
   "source": [
    "<p style=\"text-align:right;font-size:0.9em\">\n",
    "Grau d'Enginyeria Informàtica. Algorísmica\n",
    "</p>"
   ]
  },
  {
   "cell_type": "markdown",
   "metadata": {},
   "source": [
    "<h1 style=\"padding:0.5em 0;font:Garamond;font-size:1-5em;color:#F90;background-color:#005\">\n",
    "Problema: Números binaris fins a N\n",
    "</h1>"
   ]
  },
  {
   "cell_type": "markdown",
   "metadata": {},
   "source": [
    "<p style=\"font-family:Arial;font-size:1em\">\n",
    "Donat un número N, crea tots els nombres binaris entre 1 i N, ambdós inclosos.\n",
    "</p>"
   ]
  },
  {
   "cell_type": "markdown",
   "metadata": {},
   "source": [
    "<div style=\"font-style:italic\">\n",
    "Per exemple:\n",
    "<ul>\n",
    "<li>N=9</li>\n",
    "<li>Solució:\n",
    "   <ul>\n",
    "   <li>1,10,11,100,101,110,111,1000,1001</li>\n",
    "   </ul>\n",
    "</li>\n",
    "</ul>\n",
    "</div>"
   ]
  },
  {
   "cell_type": "code",
   "execution_count": 3,
   "metadata": {},
   "outputs": [
    {
     "name": "stdout",
     "output_type": "stream",
     "text": [
      "1 10 11 100 101 110 111 1000 1001 "
     ]
    }
   ],
   "source": [
    "def Binaris(m):\n",
    "    for n in range(1,m+1):\n",
    "        g = bin(n)\n",
    "        f = g[2:]\n",
    "        print(f, end = \" \")\n",
    "Binaris(9)        "
   ]
  },
  {
   "cell_type": "markdown",
   "metadata": {},
   "source": [
    "Modifica el codi per a què els nombres es mostrin a pantalla com una seqüència de 0 i 1 ocupant en total 16 bits"
   ]
  },
  {
   "cell_type": "code",
   "execution_count": 1,
   "metadata": {},
   "outputs": [],
   "source": [
    "# Inserir aquí el codi de la solució"
   ]
  },
  {
   "cell_type": "markdown",
   "metadata": {},
   "source": [
    "<h2 style=\"padding:0.5em 0;font:Garamond;font-size:1.2em;color:#FA0;background-color:#005\">\n",
    "Pregunta 1: Quina solució hauria de donar per als següents valors:\n",
    "</h2>"
   ]
  },
  {
   "cell_type": "markdown",
   "metadata": {},
   "source": [
    "- N:5\n",
    "- N:20            "
   ]
  },
  {
   "cell_type": "code",
   "execution_count": 9,
   "metadata": {},
   "outputs": [
    {
     "name": "stdout",
     "output_type": "stream",
     "text": [
      "1 10 11 100 101 //\n",
      "1 10 11 100 101 110 111 1000 1001 1010 1011 1100 1101 1110 1111 10000 10001 10010 10011 10100 "
     ]
    }
   ],
   "source": [
    "def Binaris(m):\n",
    "    for n in range(1,m+1):\n",
    "        g = bin(n)\n",
    "        f =g[2:]\n",
    "        print(f, end = \" \")\n",
    "        \n",
    "Binaris(5)\n",
    "print(\"//\")\n",
    "Binaris(20)"
   ]
  },
  {
   "cell_type": "markdown",
   "metadata": {},
   "source": [
    "<h2 style=\"padding:0.5em 0;font:Garamond;font-size:1.2em;color:#FA0;background-color:#005\">\n",
    "Pregunta 2: Se t’acudeix una solució sense fer servir la funció bin, i usant la concatenació de strings i ’0’ i ’1’?\n",
    "</h2>"
   ]
  },
  {
   "cell_type": "code",
   "execution_count": 11,
   "metadata": {},
   "outputs": [
    {
     "name": "stdout",
     "output_type": "stream",
     "text": [
      "[1, 0, 1]\n"
     ]
    }
   ],
   "source": [
    "def Binaris2(n):\n",
    "    lista = []\n",
    "    a = n%2\n",
    "    b = n//2\n",
    "    lista.append(a)\n",
    "    if b!=1:\n",
    "        c = b%2\n",
    "        lista.append(c)\n",
    "        if (c!=0):\n",
    "            if (c==1):\n",
    "                lista.append(1)\n",
    "            else:\n",
    "                d = c//2\n",
    "                e = d%2\n",
    "                lista.append(e)\n",
    "        else:\n",
    "            x = 1\n",
    "            lista.append(x)\n",
    "    else:\n",
    "        lista.append(b)\n",
    "    lista.reverse()\n",
    "    print(lista)\n",
    "        \n",
    "    \n",
    "Binaris2(5)"
   ]
  },
  {
   "cell_type": "markdown",
   "metadata": {},
   "source": [
    "<h2 style=\"padding:0.5em 0;font:Garamond;font-size:1.2em;color:#FA0;background-color:#005\">\n",
    "Pregunta 3: Per a N=5 quantes operacions es fan?\n",
    "</h2>"
   ]
  },
  {
   "cell_type": "code",
   "execution_count": null,
   "metadata": {},
   "outputs": [],
   "source": [
    "2"
   ]
  },
  {
   "cell_type": "markdown",
   "metadata": {},
   "source": [
    "<p style=\"text-align:right;font-size:0.9em\">\n",
    "&copy;Jordi Vitrià i Mireia Ribera\n",
    "</p>"
   ]
  }
 ],
 "metadata": {
  "kernelspec": {
   "display_name": "Python 3",
   "language": "python",
   "name": "python3"
  },
  "language_info": {
   "codemirror_mode": {
    "name": "ipython",
    "version": 3
   },
   "file_extension": ".py",
   "mimetype": "text/x-python",
   "name": "python",
   "nbconvert_exporter": "python",
   "pygments_lexer": "ipython3",
   "version": "3.6.5"
  }
 },
 "nbformat": 4,
 "nbformat_minor": 2
}
