{
 "cells": [
  {
   "cell_type": "markdown",
   "metadata": {},
   "source": [
    "<p style=\"text-align:right;font-size:0.9em\">\n",
    "Grau d'Enginyeria Informàtica. Algorísmica\n",
    "</p>"
   ]
  },
  {
   "cell_type": "markdown",
   "metadata": {},
   "source": [
    "<h1 style=\"padding:0.5em 0;font:Garamond;font-size:1-5em;color:#F90;background-color:#005\">\n",
    "Problema: Divisors\n",
    "</h1>"
   ]
  },
  {
   "cell_type": "markdown",
   "metadata": {},
   "source": [
    "Escriu una funció ``divisors`` que demani un nombre menor que 30 a l'usuari i mostri una llista amb tots els seus divisors.\n",
    "\n",
    "Exemple:\n",
    "- Digues-me un nombre? 8  => [1,2,4,8]\n",
    "- Digues-me un nombre? 5  => [1,5]"
   ]
  },
  {
   "cell_type": "code",
   "execution_count": 1,
   "metadata": {},
   "outputs": [
    {
     "name": "stdout",
     "output_type": "stream",
     "text": [
      "Digues-me un nombre menor que 30: 8\n",
      "[1, 2, 4, 8]\n"
     ]
    }
   ],
   "source": [
    "def divisors1():\n",
    "    x = int(input(\"Digues-me un nombre menor que 30: \"))    \n",
    "    llista = []\n",
    "    if (x<30):\n",
    "        for n in range(1,31):\n",
    "            if (x%n==0):\n",
    "                llista.append(n)\n",
    "        print(llista)    \n",
    "    else:\n",
    "        print(\"No és un menor que 30.\")\n",
    "divisors1()"
   ]
  },
  {
   "cell_type": "markdown",
   "metadata": {},
   "source": [
    "<h2 style=\"padding:0.5em 0;font:Garamond;font-size:1.2em;color:#FA0;background-color:#005\">\n",
    "Pregunta 1: Quina solució hauria de donar per als següents valors:\n",
    "</h2>"
   ]
  },
  {
   "cell_type": "markdown",
   "metadata": {},
   "source": [
    "- 28: [1, 2, 4, 7, 14, 28]\n",
    "- 12: [1, 2, 3, 4, 6, 12]\n",
    "-  5: [1, 5]     "
   ]
  },
  {
   "cell_type": "markdown",
   "metadata": {},
   "source": [
    "<h2 style=\"padding:0.5em 0;font:Garamond;font-size:1.2em;color:#FA0;background-color:#005\">\n",
    "Pregunta 2: Reescriu el programa amb una list comprehension\n",
    "</h2>"
   ]
  },
  {
   "cell_type": "code",
   "execution_count": 3,
   "metadata": {},
   "outputs": [
    {
     "name": "stdout",
     "output_type": "stream",
     "text": [
      "Digues-me un nombre menor que 30: 28\n",
      "[1, 2, 4, 7, 14, 28]\n"
     ]
    }
   ],
   "source": [
    "def divisors2():\n",
    "    x = int(input(\"Digues-me un nombre menor que 30: \"))\n",
    "    if x<30:\n",
    "        llista = [n for n in range(1,31) if (x%n==0)]\n",
    "        print(llista)\n",
    "    else:\n",
    "        print(\"No és un menor que 30.\")\n",
    "divisors2()"
   ]
  },
  {
   "cell_type": "code",
   "execution_count": 4,
   "metadata": {},
   "outputs": [
    {
     "name": "stdout",
     "output_type": "stream",
     "text": [
      "Digues-me un nombre menor que 30: 12\n",
      "[1, 2, 3, 4, 6, 12]\n"
     ]
    }
   ],
   "source": [
    "def divisors2():\n",
    "    x = int(input(\"Digues-me un nombre menor que 30: \"))\n",
    "    if x<30:\n",
    "        llista = [n for n in range(1,31) if (x%n==0)]\n",
    "        print(llista)\n",
    "    else:\n",
    "        print(\"No és un menor que 30.\")\n",
    "divisors2()"
   ]
  },
  {
   "cell_type": "code",
   "execution_count": 5,
   "metadata": {},
   "outputs": [
    {
     "name": "stdout",
     "output_type": "stream",
     "text": [
      "Digues-me un nombre menor que 30: 5\n",
      "[1, 5]\n"
     ]
    }
   ],
   "source": [
    "def divisors2():\n",
    "    x = int(input(\"Digues-me un nombre menor que 30: \"))\n",
    "    if x<30:\n",
    "        llista = [n for n in range(1,31) if (x%n==0)]\n",
    "        print(llista)\n",
    "    else:\n",
    "        print(\"No és un menor que 30.\")\n",
    "divisors2()"
   ]
  },
  {
   "cell_type": "markdown",
   "metadata": {},
   "source": [
    "<p style=\"text-align:right;font-size:0.9em\">\n",
    "&copy;Jordi Vitrià i Mireia Ribera\n",
    "</p>"
   ]
  }
 ],
 "metadata": {
  "kernelspec": {
   "display_name": "Python 3",
   "language": "python",
   "name": "python3"
  },
  "language_info": {
   "codemirror_mode": {
    "name": "ipython",
    "version": 3
   },
   "file_extension": ".py",
   "mimetype": "text/x-python",
   "name": "python",
   "nbconvert_exporter": "python",
   "pygments_lexer": "ipython3",
   "version": "3.6.5"
  }
 },
 "nbformat": 4,
 "nbformat_minor": 2
}
