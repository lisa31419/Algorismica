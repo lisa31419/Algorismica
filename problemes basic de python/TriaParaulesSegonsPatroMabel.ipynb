{
 "cells": [
  {
   "cell_type": "markdown",
   "metadata": {},
   "source": [
    "<p style=\"text-align:right;font-size:0.9em\">\n",
    "Grau d'Enginyeria Informàtica. Algorísmica\n",
    "</p>"
   ]
  },
  {
   "cell_type": "markdown",
   "metadata": {},
   "source": [
    "<h1 style=\"padding:0.5em 0;font:Garamond;font-size:1-5em;color:#F90;background-color:#005\">\n",
    "Problema: Tria de paraules segons un patró donat\n",
    "</h1>"
   ]
  },
  {
   "cell_type": "markdown",
   "metadata": {},
   "source": [
    "<p style=\"font-family:Arial;font-size:1em\">\n",
    "Donada una llista de paraules  i un patró, trobar totes les paraules que segueixin aquell patró.\n",
    "</p>"
   ]
  },
  {
   "cell_type": "markdown",
   "metadata": {},
   "source": [
    "<div style=\"font-style:italic\">\n",
    "Per exemple:\n",
    "<ul>\n",
    "<li>Llista=[gag,sos,mim,gat,gos], Patro='rar'</li>\n",
    "<li>Solució:\n",
    "   <ul>\n",
    "   <li>[gag,sos,mim]</li>\n",
    "   <li>En el patró la primera i la darrera lletra són iguals</li>\n",
    "   </ul>\n",
    "</li>\n",
    "<li>Llista=[gag,sos,mim,gat,gos], Patro='rap'</li>\n",
    "<li>Solució:\n",
    "   <ul>\n",
    "   <li>[gat,gos]</li>\n",
    "   <li>En el patró les tres lletres són diferents</li>\n",
    "   </ul>\n",
    "</li>\n",
    "</ul>\n",
    "</div>"
   ]
  },
  {
   "cell_type": "code",
   "execution_count": 1,
   "metadata": {},
   "outputs": [
    {
     "name": "stdout",
     "output_type": "stream",
     "text": [
      "['gag', 'sos', 'mim']\n",
      "['gat', 'gos']\n"
     ]
    }
   ],
   "source": [
    "def paraules(paraula):\n",
    "    return[paraula.index(i) for i in paraula]\n",
    "\n",
    "def paraulesSegueixenPatro(llista, patro):\n",
    "    patroNums = paraules(patro)\n",
    "    return[i for i in llista if paraules(i) == patroNums]\n",
    "\n",
    "print(paraulesSegueixenPatro([\"gag\", \"sos\", \"mim\", \"gat\", \"gos\"],\"rar\"))\n",
    "print(paraulesSegueixenPatro([\"gag\", \"sos\", \"mim\", \"gat\", \"gos\"], \"rap\"))"
   ]
  },
  {
   "cell_type": "markdown",
   "metadata": {},
   "source": [
    "<h2 style=\"padding:0.5em 0;font:Garamond;font-size:1.2em;color:#FA0;background-color:#005\">\n",
    "Pregunta 1: Quina solució hauria de donar per als següents valors:\n",
    "</h2>"
   ]
  },
  {
   "cell_type": "markdown",
   "metadata": {},
   "source": [
    "- Llista:[massa,angle,parra], Patró:tmxxm"
   ]
  },
  {
   "cell_type": "markdown",
   "metadata": {
    "collapsed": true
   },
   "source": [
    "Massa, parra."
   ]
  },
  {
   "cell_type": "markdown",
   "metadata": {},
   "source": [
    "<h2 style=\"padding:0.5em 0;font:Garamond;font-size:1.2em;color:#FA0;background-color:#005\">\n",
    "Pregunta 2: Quina col.lecció fem servir i perquè?\n",
    "</h2>"
   ]
  },
  {
   "cell_type": "markdown",
   "metadata": {},
   "source": [
    "Una lista, porque son mutables respecto a las tuplas y se puedes recorrer secuencialmente. Como en este caso no necesitamos ninguna pareja de clave-valor, no usaremos diccionarios."
   ]
  },
  {
   "cell_type": "markdown",
   "metadata": {},
   "source": [
    "<h2 style=\"padding:0.5em 0;font:Garamond;font-size:1.2em;color:#FA0;background-color:#005\">\n",
    "Pregunta 3: Quina és la complexitat?\n",
    "</h2>"
   ]
  },
  {
   "cell_type": "markdown",
   "metadata": {},
   "source": [
    "O(n)"
   ]
  },
  {
   "cell_type": "markdown",
   "metadata": {},
   "source": [
    "<p style=\"text-align:right;font-size:0.9em\">\n",
    "&copy;Jordi Vitrià i Mireia Ribera\n",
    "</p>"
   ]
  }
 ],
 "metadata": {
  "kernelspec": {
   "display_name": "Python 3",
   "language": "python",
   "name": "python3"
  },
  "language_info": {
   "codemirror_mode": {
    "name": "ipython",
    "version": 3
   },
   "file_extension": ".py",
   "mimetype": "text/x-python",
   "name": "python",
   "nbconvert_exporter": "python",
   "pygments_lexer": "ipython3",
   "version": "3.6.5"
  }
 },
 "nbformat": 4,
 "nbformat_minor": 2
}
