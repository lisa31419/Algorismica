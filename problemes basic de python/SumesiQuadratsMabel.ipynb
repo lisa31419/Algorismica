{
 "cells": [
  {
   "cell_type": "markdown",
   "metadata": {},
   "source": [
    "<p style=\"text-align:right;font-size:0.9em\">\n",
    "Grau d'Enginyeria Informàtica. Algorísmica. \n",
    "</p>"
   ]
  },
  {
   "cell_type": "markdown",
   "metadata": {},
   "source": [
    "<h1 style=\"padding:0.5em 0;font:Garamond;font-size:1-5em;color:#F90;background-color:#005\">\n",
    "Problema: Sumes i quadrats\n",
    "</h1>"
   ]
  },
  {
   "cell_type": "markdown",
   "metadata": {},
   "source": [
    "La *suma dels quadrats* dels primer 10 nombres naturals és $1^2 + 2^2 + ... + 10^2 = 385$.\n",
    "\n",
    "El *quadrat de la suma* dels primer 10 nombres naturals és $(1 + 2 + ... + 10)^2 = 55^2 = 3025$.\n",
    "\n",
    "Per tant, la diferència entre la suma d'aquests quadrats i el quadrat de la suma és $3025 − 385 = 2640$.\n",
    "\n",
    "Troba aquesta diferència pel cas dels 100 primers nombres naturals. Fes servir list comprehensions"
   ]
  },
  {
   "cell_type": "code",
   "execution_count": 33,
   "metadata": {},
   "outputs": [
    {
     "data": {
      "text/plain": [
       "2640"
      ]
     },
     "execution_count": 33,
     "metadata": {},
     "output_type": "execute_result"
    }
   ],
   "source": [
    "def sumesQuadrats(num):\n",
    "    import math\n",
    "    suma1 = 0\n",
    "    suma2 = 0\n",
    "    lista1 =[i**2 for i in range(0,num+1)]\n",
    "    x = sum(lista1)\n",
    "    lista2 =[j for j in range(0,num+1)];\n",
    "    y = sum(lista2)**2\n",
    "    resta = y - x\n",
    "    return(resta)\n",
    "    \n",
    "    \n",
    "sumesQuadrats(10)     "
   ]
  },
  {
   "cell_type": "markdown",
   "metadata": {},
   "source": [
    "<p style=\"text-align:right;font-size:0.9em\">\n",
    "&copy;Jordi Vitrià i Mireia Ribera\n",
    "</p>"
   ]
  }
 ],
 "metadata": {
  "kernelspec": {
   "display_name": "Python 3",
   "language": "python",
   "name": "python3"
  },
  "language_info": {
   "codemirror_mode": {
    "name": "ipython",
    "version": 3
   },
   "file_extension": ".py",
   "mimetype": "text/x-python",
   "name": "python",
   "nbconvert_exporter": "python",
   "pygments_lexer": "ipython3",
   "version": "3.6.5"
  }
 },
 "nbformat": 4,
 "nbformat_minor": 2
}
